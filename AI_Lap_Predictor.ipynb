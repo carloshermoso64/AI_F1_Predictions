{
  "nbformat": 4,
  "nbformat_minor": 0,
  "metadata": {
    "colab": {
      "provenance": []
    },
    "kernelspec": {
      "name": "python3",
      "display_name": "Python 3"
    },
    "language_info": {
      "name": "python"
    }
  },
  "cells": [
    {
      "cell_type": "code",
      "source": [
        "%matplotlib inline\n",
        "!pip install fastf1\n",
        "!pip install timple\n"
      ],
      "metadata": {
        "colab": {
          "base_uri": "https://localhost:8080/"
        },
        "id": "hEU2efYjWVTk",
        "outputId": "d4219e8e-5c94-42c3-ff9d-c77de62cfb0f"
      },
      "execution_count": 2,
      "outputs": [
        {
          "output_type": "stream",
          "name": "stdout",
          "text": [
            "Looking in indexes: https://pypi.org/simple, https://us-python.pkg.dev/colab-wheels/public/simple/\n",
            "Collecting fastf1\n",
            "  Downloading fastf1-2.3.1-py3-none-any.whl (79 kB)\n",
            "\u001b[2K     \u001b[90m━━━━━━━━━━━━━━━━━━━━━━━━━━━━━━━━━━━━━━━━\u001b[0m \u001b[32m79.4/79.4 KB\u001b[0m \u001b[31m2.0 MB/s\u001b[0m eta \u001b[36m0:00:00\u001b[0m\n",
            "\u001b[?25hRequirement already satisfied: requests in /usr/local/lib/python3.9/dist-packages (from fastf1) (2.27.1)\n",
            "Requirement already satisfied: matplotlib>=3.3.3 in /usr/local/lib/python3.9/dist-packages (from fastf1) (3.7.1)\n",
            "Collecting requests-cache>=0.8.0\n",
            "  Downloading requests_cache-1.0.0-py3-none-any.whl (58 kB)\n",
            "\u001b[2K     \u001b[90m━━━━━━━━━━━━━━━━━━━━━━━━━━━━━━━━━━━━━━━━\u001b[0m \u001b[32m58.6/58.6 KB\u001b[0m \u001b[31m2.5 MB/s\u001b[0m eta \u001b[36m0:00:00\u001b[0m\n",
            "\u001b[?25hCollecting thefuzz\n",
            "  Downloading thefuzz-0.19.0-py2.py3-none-any.whl (17 kB)\n",
            "Collecting timple>=0.1.2\n",
            "  Downloading timple-0.1.5-py3-none-any.whl (17 kB)\n",
            "Requirement already satisfied: scipy in /usr/local/lib/python3.9/dist-packages (from fastf1) (1.10.1)\n",
            "Collecting signalr-client-aio\n",
            "  Downloading signalr_client_aio-0.0.1.6.2-py2.py3-none-any.whl (8.0 kB)\n",
            "Requirement already satisfied: pandas>=1.1.0 in /usr/local/lib/python3.9/dist-packages (from fastf1) (1.4.4)\n",
            "Requirement already satisfied: numpy>=1.17.3 in /usr/local/lib/python3.9/dist-packages (from fastf1) (1.22.4)\n",
            "Requirement already satisfied: pyparsing>=2.3.1 in /usr/local/lib/python3.9/dist-packages (from matplotlib>=3.3.3->fastf1) (3.0.9)\n",
            "Requirement already satisfied: packaging>=20.0 in /usr/local/lib/python3.9/dist-packages (from matplotlib>=3.3.3->fastf1) (23.0)\n",
            "Requirement already satisfied: kiwisolver>=1.0.1 in /usr/local/lib/python3.9/dist-packages (from matplotlib>=3.3.3->fastf1) (1.4.4)\n",
            "Requirement already satisfied: contourpy>=1.0.1 in /usr/local/lib/python3.9/dist-packages (from matplotlib>=3.3.3->fastf1) (1.0.7)\n",
            "Requirement already satisfied: cycler>=0.10 in /usr/local/lib/python3.9/dist-packages (from matplotlib>=3.3.3->fastf1) (0.11.0)\n",
            "Requirement already satisfied: importlib-resources>=3.2.0 in /usr/local/lib/python3.9/dist-packages (from matplotlib>=3.3.3->fastf1) (5.12.0)\n",
            "Requirement already satisfied: python-dateutil>=2.7 in /usr/local/lib/python3.9/dist-packages (from matplotlib>=3.3.3->fastf1) (2.8.2)\n",
            "Requirement already satisfied: pillow>=6.2.0 in /usr/local/lib/python3.9/dist-packages (from matplotlib>=3.3.3->fastf1) (8.4.0)\n",
            "Requirement already satisfied: fonttools>=4.22.0 in /usr/local/lib/python3.9/dist-packages (from matplotlib>=3.3.3->fastf1) (4.39.2)\n",
            "Requirement already satisfied: pytz>=2020.1 in /usr/local/lib/python3.9/dist-packages (from pandas>=1.1.0->fastf1) (2022.7.1)\n",
            "Collecting cattrs>=22.2\n",
            "  Downloading cattrs-22.2.0-py3-none-any.whl (35 kB)\n",
            "Requirement already satisfied: attrs>=21.2 in /usr/local/lib/python3.9/dist-packages (from requests-cache>=0.8.0->fastf1) (22.2.0)\n",
            "Collecting url-normalize>=1.4\n",
            "  Downloading url_normalize-1.4.3-py2.py3-none-any.whl (6.8 kB)\n",
            "Requirement already satisfied: urllib3>=1.25.5 in /usr/local/lib/python3.9/dist-packages (from requests-cache>=0.8.0->fastf1) (1.26.15)\n",
            "Requirement already satisfied: platformdirs>=2.5 in /usr/local/lib/python3.9/dist-packages (from requests-cache>=0.8.0->fastf1) (3.1.1)\n",
            "Requirement already satisfied: charset-normalizer~=2.0.0 in /usr/local/lib/python3.9/dist-packages (from requests->fastf1) (2.0.12)\n",
            "Requirement already satisfied: certifi>=2017.4.17 in /usr/local/lib/python3.9/dist-packages (from requests->fastf1) (2022.12.7)\n",
            "Requirement already satisfied: idna<4,>=2.5 in /usr/local/lib/python3.9/dist-packages (from requests->fastf1) (3.4)\n",
            "Collecting websockets>=4.0.1\n",
            "  Downloading websockets-10.4-cp39-cp39-manylinux_2_5_x86_64.manylinux1_x86_64.manylinux_2_17_x86_64.manylinux2014_x86_64.whl (106 kB)\n",
            "\u001b[2K     \u001b[90m━━━━━━━━━━━━━━━━━━━━━━━━━━━━━━━━━━━━━━━\u001b[0m \u001b[32m106.5/106.5 KB\u001b[0m \u001b[31m4.4 MB/s\u001b[0m eta \u001b[36m0:00:00\u001b[0m\n",
            "\u001b[?25hCollecting exceptiongroup\n",
            "  Downloading exceptiongroup-1.1.1-py3-none-any.whl (14 kB)\n",
            "Requirement already satisfied: zipp>=3.1.0 in /usr/local/lib/python3.9/dist-packages (from importlib-resources>=3.2.0->matplotlib>=3.3.3->fastf1) (3.15.0)\n",
            "Requirement already satisfied: six>=1.5 in /usr/local/lib/python3.9/dist-packages (from python-dateutil>=2.7->matplotlib>=3.3.3->fastf1) (1.16.0)\n",
            "Installing collected packages: thefuzz, websockets, url-normalize, exceptiongroup, signalr-client-aio, cattrs, timple, requests-cache, fastf1\n",
            "Successfully installed cattrs-22.2.0 exceptiongroup-1.1.1 fastf1-2.3.1 requests-cache-1.0.0 signalr-client-aio-0.0.1.6.2 thefuzz-0.19.0 timple-0.1.5 url-normalize-1.4.3 websockets-10.4\n",
            "Looking in indexes: https://pypi.org/simple, https://us-python.pkg.dev/colab-wheels/public/simple/\n",
            "Requirement already satisfied: timple in /usr/local/lib/python3.9/dist-packages (0.1.5)\n",
            "Requirement already satisfied: numpy in /usr/local/lib/python3.9/dist-packages (from timple) (1.22.4)\n",
            "Requirement already satisfied: matplotlib in /usr/local/lib/python3.9/dist-packages (from timple) (3.7.1)\n",
            "Requirement already satisfied: importlib-resources>=3.2.0 in /usr/local/lib/python3.9/dist-packages (from matplotlib->timple) (5.12.0)\n",
            "Requirement already satisfied: python-dateutil>=2.7 in /usr/local/lib/python3.9/dist-packages (from matplotlib->timple) (2.8.2)\n",
            "Requirement already satisfied: cycler>=0.10 in /usr/local/lib/python3.9/dist-packages (from matplotlib->timple) (0.11.0)\n",
            "Requirement already satisfied: fonttools>=4.22.0 in /usr/local/lib/python3.9/dist-packages (from matplotlib->timple) (4.39.2)\n",
            "Requirement already satisfied: contourpy>=1.0.1 in /usr/local/lib/python3.9/dist-packages (from matplotlib->timple) (1.0.7)\n",
            "Requirement already satisfied: packaging>=20.0 in /usr/local/lib/python3.9/dist-packages (from matplotlib->timple) (23.0)\n",
            "Requirement already satisfied: pyparsing>=2.3.1 in /usr/local/lib/python3.9/dist-packages (from matplotlib->timple) (3.0.9)\n",
            "Requirement already satisfied: pillow>=6.2.0 in /usr/local/lib/python3.9/dist-packages (from matplotlib->timple) (8.4.0)\n",
            "Requirement already satisfied: kiwisolver>=1.0.1 in /usr/local/lib/python3.9/dist-packages (from matplotlib->timple) (1.4.4)\n",
            "Requirement already satisfied: zipp>=3.1.0 in /usr/local/lib/python3.9/dist-packages (from importlib-resources>=3.2.0->matplotlib->timple) (3.15.0)\n",
            "Requirement already satisfied: six>=1.5 in /usr/local/lib/python3.9/dist-packages (from python-dateutil>=2.7->matplotlib->timple) (1.16.0)\n"
          ]
        }
      ]
    },
    {
      "cell_type": "code",
      "execution_count": 3,
      "metadata": {
        "id": "nxTMuomojyqA"
      },
      "outputs": [],
      "source": [
        "import tensorflow as tf\n",
        "import numpy as np\n",
        "import matplotlib.pyplot as plt\n",
        "import fastf1\n",
        "import pandas as pd\n",
        "import sklearn\n",
        "from sklearn.model_selection import train_test_split\n",
        "from sklearn.ensemble import RandomForestRegressor\n",
        "from sklearn.preprocessing import LabelEncoder\n",
        "from sklearn.metrics import accuracy_score\n",
        "import pickle\n",
        "\n"
      ]
    },
    {
      "cell_type": "code",
      "source": [
        "fastf1.Cache.enable_cache('/content/sample_data')  # replace with your cache directory"
      ],
      "metadata": {
        "id": "WdpKI3e8bg_H"
      },
      "execution_count": 4,
      "outputs": []
    },
    {
      "cell_type": "code",
      "source": [
        "df=pd.DataFrame()\n",
        "event = [\"FP1\",\"FP2\",\"FP3\",\"Q\",\"R\"]\n",
        "i = 0\n",
        "while i<=4:\n",
        "  session = fastf1.get_session(2023, 2, event[i])\n",
        "  session.load()\n",
        "  for d in session.drivers:\n",
        "    \n",
        "    driver = session.laps.pick_driver(d)\n",
        "    df_clean_2 = driver.dropna(subset=['LapTime'])\n",
        "    # Calculate the 107% threshold based on the fastest lap time\n",
        "    fastest_lap = df_clean_2['LapTime'].min()\n",
        "    threshold = fastest_lap * 1.09\n",
        "\n",
        "    # Filter out laps that are slower than the threshold\n",
        "    df_clean_2 = df_clean_2[df_clean_2['LapTime'] < threshold]\n",
        "\n",
        "    df_2 = df_clean_2.loc[:, ['Driver','Stint','Compound','FreshTyre', 'TyreLife','TrackStatus','IsAccurate','LapTime']]\n",
        "    df_aux_2 = df_2.loc[:,['LapTime']]\n",
        "\n",
        "    df_aux_2['LapTimeMs'] = df_aux_2['LapTime'].dt.seconds \n",
        "    df_aux_2['ms']=df_aux_2['LapTime'].dt.microseconds/1000000\n",
        "    df_aux_2['LapTimeSec'] = df_aux_2['LapTimeMs']+df_aux_2['ms']\n",
        "\n",
        "    #Bring back lap time:\n",
        "    #df['LapTimeBack'] = pd.to_timedelta(df['LapTimeSec'], unit='s')\n",
        "    df_2['LapTime']=df_aux_2['LapTimeSec']\n",
        "\n",
        "    df_2['FreshTyre'] = df_2['FreshTyre'].astype(int)\n",
        "    df_2['IsAccurate'] = df_2['IsAccurate'].astype(int)\n",
        "\n",
        "    df_2['Session'] = session.name\n",
        "    cols = list(df_2.columns)\n",
        "    cols.remove('LapTime')\n",
        "    cols.append('LapTime')\n",
        "    df_2 = df_2.reindex(columns=cols)\n",
        "    #df = df[df['IsAccurate'] != 0]\n",
        "\n",
        "    # use pandas to one-hot encode the 'Compound' column\n",
        "    #df = pd.get_dummies(df, columns=['Compound'])\n",
        "\n",
        "    df = pd.concat([df, df_2], axis=0)\n",
        "    print(\"added driver number \"+d+\" laps of session \"+event[i])      \n",
        "  i = i+1\n"
      ],
      "metadata": {
        "colab": {
          "base_uri": "https://localhost:8080/"
        },
        "id": "sNPH_XkS_1di",
        "outputId": "b2d56421-ad77-4f63-8d09-05b564bdaa62"
      },
      "execution_count": 158,
      "outputs": [
        {
          "output_type": "stream",
          "name": "stdout",
          "text": [
            "added driver number 1 laps of session FP1\n",
            "added driver number 63 laps of session FP1\n",
            "added driver number 55 laps of session FP1\n",
            "added driver number 44 laps of session FP1\n",
            "added driver number 31 laps of session FP1\n",
            "added driver number 27 laps of session FP1\n",
            "added driver number 24 laps of session FP1\n",
            "added driver number 23 laps of session FP1\n",
            "added driver number 22 laps of session FP1\n",
            "added driver number 21 laps of session FP1\n",
            "added driver number 20 laps of session FP1\n",
            "added driver number 18 laps of session FP1\n",
            "added driver number 16 laps of session FP1\n",
            "added driver number 14 laps of session FP1\n",
            "added driver number 11 laps of session FP1\n",
            "added driver number 10 laps of session FP1\n",
            "added driver number 4 laps of session FP1\n",
            "added driver number 2 laps of session FP1\n",
            "added driver number 77 laps of session FP1\n",
            "added driver number 81 laps of session FP1\n",
            "added driver number 1 laps of session FP2\n",
            "added driver number 63 laps of session FP2\n",
            "added driver number 55 laps of session FP2\n",
            "added driver number 44 laps of session FP2\n",
            "added driver number 31 laps of session FP2\n",
            "added driver number 27 laps of session FP2\n",
            "added driver number 24 laps of session FP2\n",
            "added driver number 23 laps of session FP2\n",
            "added driver number 22 laps of session FP2\n",
            "added driver number 21 laps of session FP2\n",
            "added driver number 20 laps of session FP2\n",
            "added driver number 18 laps of session FP2\n",
            "added driver number 16 laps of session FP2\n",
            "added driver number 14 laps of session FP2\n",
            "added driver number 11 laps of session FP2\n",
            "added driver number 10 laps of session FP2\n",
            "added driver number 4 laps of session FP2\n",
            "added driver number 2 laps of session FP2\n",
            "added driver number 77 laps of session FP2\n",
            "added driver number 81 laps of session FP2\n"
          ]
        },
        {
          "output_type": "stream",
          "name": "stderr",
          "text": [
            "WARNING:root:No lap data for driver 21\n"
          ]
        },
        {
          "output_type": "stream",
          "name": "stdout",
          "text": [
            "added driver number 1 laps of session FP3\n",
            "added driver number 63 laps of session FP3\n",
            "added driver number 55 laps of session FP3\n",
            "added driver number 44 laps of session FP3\n",
            "added driver number 31 laps of session FP3\n",
            "added driver number 27 laps of session FP3\n",
            "added driver number 24 laps of session FP3\n",
            "added driver number 23 laps of session FP3\n",
            "added driver number 22 laps of session FP3\n",
            "added driver number 21 laps of session FP3\n",
            "added driver number 20 laps of session FP3\n",
            "added driver number 18 laps of session FP3\n",
            "added driver number 16 laps of session FP3\n",
            "added driver number 14 laps of session FP3\n",
            "added driver number 11 laps of session FP3\n",
            "added driver number 10 laps of session FP3\n",
            "added driver number 4 laps of session FP3\n",
            "added driver number 2 laps of session FP3\n",
            "added driver number 77 laps of session FP3\n",
            "added driver number 81 laps of session FP3\n",
            "added driver number 11 laps of session Q\n",
            "added driver number 16 laps of session Q\n",
            "added driver number 14 laps of session Q\n",
            "added driver number 63 laps of session Q\n",
            "added driver number 55 laps of session Q\n",
            "added driver number 18 laps of session Q\n",
            "added driver number 31 laps of session Q\n",
            "added driver number 44 laps of session Q\n",
            "added driver number 81 laps of session Q\n",
            "added driver number 10 laps of session Q\n",
            "added driver number 27 laps of session Q\n",
            "added driver number 24 laps of session Q\n",
            "added driver number 20 laps of session Q\n",
            "added driver number 77 laps of session Q\n",
            "added driver number 1 laps of session Q\n",
            "added driver number 22 laps of session Q\n",
            "added driver number 23 laps of session Q\n",
            "added driver number 21 laps of session Q\n",
            "added driver number 4 laps of session Q\n",
            "added driver number 2 laps of session Q\n",
            "added driver number 11 laps of session R\n",
            "added driver number 1 laps of session R\n",
            "added driver number 14 laps of session R\n",
            "added driver number 63 laps of session R\n",
            "added driver number 44 laps of session R\n",
            "added driver number 55 laps of session R\n",
            "added driver number 16 laps of session R\n",
            "added driver number 31 laps of session R\n",
            "added driver number 10 laps of session R\n",
            "added driver number 20 laps of session R\n",
            "added driver number 22 laps of session R\n",
            "added driver number 27 laps of session R\n",
            "added driver number 24 laps of session R\n",
            "added driver number 21 laps of session R\n",
            "added driver number 81 laps of session R\n",
            "added driver number 2 laps of session R\n",
            "added driver number 4 laps of session R\n",
            "added driver number 77 laps of session R\n",
            "added driver number 23 laps of session R\n",
            "added driver number 18 laps of session R\n"
          ]
        }
      ]
    },
    {
      "cell_type": "code",
      "source": [
        "print(df)"
      ],
      "metadata": {
        "colab": {
          "base_uri": "https://localhost:8080/"
        },
        "id": "OMa0LYvZB9nB",
        "outputId": "c05fdaae-eb97-4e92-aeba-45a536231111"
      },
      "execution_count": 159,
      "outputs": [
        {
          "output_type": "stream",
          "name": "stdout",
          "text": [
            "    Driver  Stint Compound  FreshTyre  TyreLife TrackStatus  IsAccurate  \\\n",
            "1      VER      1     SOFT          1       2.0           1           1   \n",
            "3      VER      1     SOFT          1       4.0           1           1   \n",
            "5      VER      1     SOFT          1       6.0           1           1   \n",
            "7      VER      1     SOFT          1       8.0           1           1   \n",
            "10     VER      2     SOFT          1       2.0           1           1   \n",
            "..     ...    ...      ...        ...       ...         ...         ...   \n",
            "936    STR      1   MEDIUM          1      11.0           1           1   \n",
            "937    STR      1   MEDIUM          1      12.0           1           1   \n",
            "938    STR      1   MEDIUM          1      13.0           1           0   \n",
            "940    STR      2     HARD          0       3.0           1           1   \n",
            "941    STR      2     HARD          0       4.0           1           1   \n",
            "\n",
            "        Session  LapTime  \n",
            "1    Practice 1   91.564  \n",
            "3    Practice 1   90.494  \n",
            "5    Practice 1   90.062  \n",
            "7    Practice 1   89.815  \n",
            "10   Practice 1   89.790  \n",
            "..          ...      ...  \n",
            "936        Race   95.512  \n",
            "937        Race   96.522  \n",
            "938        Race   98.543  \n",
            "940        Race   96.262  \n",
            "941        Race   96.485  \n",
            "\n",
            "[1596 rows x 9 columns]\n"
          ]
        }
      ]
    },
    {
      "cell_type": "code",
      "source": [
        "# use pandas to one-hot encode the 'Compound' column\n",
        "#df = pd.get_dummies(df, columns=['Compound'])\n",
        "\n",
        "# create a LabelEncoder object\n",
        "le = LabelEncoder()\n",
        "le2 = LabelEncoder()\n",
        "le3 = LabelEncoder()\n",
        "le4 = LabelEncoder()\n",
        "\n",
        "compound_vector = df['Compound'].to_numpy()\n",
        "track_status_vector = df['TrackStatus'].to_numpy()\n",
        "session_vector = df['Session'].to_numpy()\n",
        "driver_vector = df['Driver'].to_numpy()\n",
        "\n",
        "le.fit(compound_vector)\n",
        "le2.fit(track_status_vector)\n",
        "le3.fit(session_vector)\n",
        "le4.fit(driver_vector)\n",
        "\n",
        "compound_encoded = le.transform(compound_vector)\n",
        "track_status_encoded = le2.transform(track_status_vector)\n",
        "session_encoded = le3.transform(session_vector)\n",
        "driver_encoded = le4.transform(driver_vector)\n",
        "\n",
        "#df['Compound']=pd.DataFrame(compound_encoded)\n",
        "df['Compound'] = compound_encoded\n",
        "df['TrackStatus'] = track_status_encoded\n",
        "df['Session'] = session_encoded\n",
        "df['Driver'] = driver_encoded\n",
        "\n",
        "\n",
        "\n",
        "# save the fitted encoders to a file\n",
        "with open('encoders.pkl', 'wb') as f:\n",
        "    pickle.dump((le, le2, le3, le4), f)\n",
        "\n",
        "\n",
        "print(\"Data encoded Ready to train\")"
      ],
      "metadata": {
        "colab": {
          "base_uri": "https://localhost:8080/"
        },
        "id": "J-YBuKEil9_j",
        "outputId": "961f4291-6ebc-46db-a36c-3584d213c7d4"
      },
      "execution_count": 160,
      "outputs": [
        {
          "output_type": "stream",
          "name": "stdout",
          "text": [
            "Data encoded Ready to train\n"
          ]
        }
      ]
    },
    {
      "cell_type": "code",
      "source": [
        "print(df)"
      ],
      "metadata": {
        "colab": {
          "base_uri": "https://localhost:8080/"
        },
        "id": "8kXOCRq85Vd7",
        "outputId": "77a51c45-a218-47a3-c68c-46c6e8de736b"
      },
      "execution_count": 161,
      "outputs": [
        {
          "output_type": "stream",
          "name": "stdout",
          "text": [
            "     Driver  Stint  Compound  FreshTyre  TyreLife  TrackStatus  IsAccurate  \\\n",
            "1        18      1         2          1       2.0            0           1   \n",
            "3        18      1         2          1       4.0            0           1   \n",
            "5        18      1         2          1       6.0            0           1   \n",
            "7        18      1         2          1       8.0            0           1   \n",
            "10       18      2         2          1       2.0            0           1   \n",
            "..      ...    ...       ...        ...       ...          ...         ...   \n",
            "936      16      1         1          1      11.0            0           1   \n",
            "937      16      1         1          1      12.0            0           1   \n",
            "938      16      1         1          1      13.0            0           0   \n",
            "940      16      2         0          0       3.0            0           1   \n",
            "941      16      2         0          0       4.0            0           1   \n",
            "\n",
            "     Session  LapTime  \n",
            "1          0   91.564  \n",
            "3          0   90.494  \n",
            "5          0   90.062  \n",
            "7          0   89.815  \n",
            "10         0   89.790  \n",
            "..       ...      ...  \n",
            "936        4   95.512  \n",
            "937        4   96.522  \n",
            "938        4   98.543  \n",
            "940        4   96.262  \n",
            "941        4   96.485  \n",
            "\n",
            "[1596 rows x 9 columns]\n"
          ]
        }
      ]
    },
    {
      "cell_type": "code",
      "source": [
        "full_set=df.to_numpy()\n",
        "train_set, test_set = train_test_split(full_set, test_size=0.2, random_state=42)\n",
        "model=RandomForestRegressor()\n",
        "model.fit(train_set[:, :-1], train_set[:, -1])\n",
        "print(\"model trained succesfully\")"
      ],
      "metadata": {
        "colab": {
          "base_uri": "https://localhost:8080/"
        },
        "id": "mdQrc8AqtwAO",
        "outputId": "da7bd2ea-cace-4a88-dda8-f9ea9d1f4f4b"
      },
      "execution_count": 162,
      "outputs": [
        {
          "output_type": "stream",
          "name": "stdout",
          "text": [
            "model trained succesfully\n"
          ]
        }
      ]
    },
    {
      "cell_type": "code",
      "source": [
        "predictions = model.predict(test_set[:, :-1])\n",
        "\n",
        "from sklearn.metrics import mean_squared_error\n",
        "\n",
        "mse = mean_squared_error(test_set[:, -1], predictions)\n",
        "print('Mean Squared Error:', mse)\n",
        "\n"
      ],
      "metadata": {
        "colab": {
          "base_uri": "https://localhost:8080/"
        },
        "id": "ToGp43Gn9f0U",
        "outputId": "45f22457-3832-452e-ab61-b03b2e5aae17"
      },
      "execution_count": 163,
      "outputs": [
        {
          "output_type": "stream",
          "name": "stdout",
          "text": [
            "Mean Squared Error: 0.8350193011871887\n"
          ]
        }
      ]
    },
    {
      "cell_type": "code",
      "source": [
        "# Plot the predicted vs actual values\n",
        "plt.scatter(test_set[:, -1], predictions)\n",
        "plt.xlabel('Actual Values')\n",
        "\n",
        "plt.ylabel('Predicted Values')\n",
        "plt.title('Predicted vs Actual Values')\n",
        "plt.show()\n"
      ],
      "metadata": {
        "colab": {
          "base_uri": "https://localhost:8080/",
          "height": 295
        },
        "id": "mr2vwK84EFHM",
        "outputId": "0102d15c-33bb-43bb-cfcb-05835932db77"
      },
      "execution_count": 164,
      "outputs": [
        {
          "output_type": "display_data",
          "data": {
            "text/plain": [
              "<Figure size 432x288 with 1 Axes>"
            ],
            "image/png": "[encoded data removed]"
          },
          "metadata": {
            "needs_background": "light"
          }
        }
      ]
    },
    {
      "cell_type": "code",
      "source": [
        "# later, when you want to make predictions on new data\n",
        "# load the encoders from the file\n",
        "with open('encoders.pkl', 'rb') as f:\n",
        "    le, le2, le3, le4 = pickle.load(f)"
      ],
      "metadata": {
        "id": "8YpXjz0GqqC8"
      },
      "execution_count": 165,
      "outputs": []
    },
    {
      "cell_type": "code",
      "source": [
        "import datetime\n",
        "\n",
        "n = 15 # number of rows\n",
        "start_val = 1 # starting value for the fourth column\n",
        "new_features = []\n",
        "for i in range(n):\n",
        "    row = ['PER', 1, 'HARD',1, start_val + i, 1, 1,'Race'] # create a new row with categorical variables as strings\n",
        "    new_features.append(row) # add the row to the list\n",
        "\n",
        "# create a DataFrame from the new data\n",
        "new_data = pd.DataFrame(new_features, columns=['Driver','Stint','Compound','FreshTyre', 'TyreLife','TrackStatus','IsAccurate','Session'])\n",
        "\n",
        "# encode the categorical variables using the saved encoders\n",
        "compound_encoded = le.transform(new_data['Compound'].to_numpy())\n",
        "#track_status_encoded = le2.transform(new_data['TrackStatus'].to_numpy())\n",
        "session_encoded = le3.transform(new_data['Session'].to_numpy())\n",
        "driver_encoded = le4.transform(new_data['Driver'].to_numpy())\n",
        "\n",
        "# assign the encoded values back to the DataFrame\n",
        "new_data['Compound'] = compound_encoded\n",
        "#new_data['TrackStatus'] = track_status_encoded\n",
        "new_data['Session'] = session_encoded\n",
        "new_data['Driver'] = driver_encoded\n",
        "\n",
        "predicted_lap_time_seconds = model.predict(new_data)\n",
        "for i in range(n):\n",
        "    #convert to datetime object\n",
        "    time_obj = datetime.timedelta(seconds=predicted_lap_time_seconds[i])\n",
        "\n",
        "    # convert to datetime object with an arbitrary date\n",
        "    date_obj = datetime.datetime(2022, 1, 1) + time_obj\n",
        "\n",
        "    # format the time string\n",
        "    predicted_lap_time = date_obj.strftime('%M:%S.%f')[:-3]\n",
        "\n",
        "\n",
        "    print(predicted_lap_time)\n"
      ],
      "metadata": {
        "colab": {
          "base_uri": "https://localhost:8080/"
        },
        "id": "D5Uh5zBpTbfx",
        "outputId": "f1f8c179-5e83-42df-8930-4d50ccb6be9e"
      },
      "execution_count": 169,
      "outputs": [
        {
          "output_type": "stream",
          "name": "stdout",
          "text": [
            "01:37.407\n",
            "01:37.407\n",
            "01:36.204\n",
            "01:36.279\n",
            "01:36.034\n",
            "01:35.986\n",
            "01:36.056\n",
            "01:36.342\n",
            "01:36.058\n",
            "01:35.350\n",
            "01:35.302\n",
            "01:35.266\n",
            "01:34.782\n",
            "01:34.708\n",
            "01:34.721\n"
          ]
        },
        {
          "output_type": "stream",
          "name": "stderr",
          "text": [
            "/usr/local/lib/python3.9/dist-packages/sklearn/base.py:432: UserWarning: X has feature names, but RandomForestRegressor was fitted without feature names\n",
            "  warnings.warn(\n"
          ]
        }
      ]
    },
    {
      "cell_type": "code",
      "source": [
        "import datetime\n",
        "\n",
        "# convert predicted lap times to datetime.timedelta objects\n",
        "time_objs = [datetime.timedelta(seconds=t) for t in predicted_lap_time_seconds]\n",
        "print(time_objs)\n",
        "\n",
        "# convert to desired time format\n",
        "predicted_lap_times = [f\"{int(t.total_seconds() // 60):d}:{t.total_seconds() % 60:.3f}\" for t in time_objs]\n",
        "print(predicted_lap_times)\n",
        "\n",
        "# calculate y-axis tick interval\n",
        "time_interval = datetime.timedelta(seconds=0.25)\n",
        "# set y-axis tick labels\n",
        "min_time = min(time_objs)\n",
        "print(min_time)\n",
        "\n",
        "max_time = max(time_objs)\n",
        "print(max_time)\n",
        "\n",
        "\n",
        "\n",
        "tick_times = [min_time + n*time_interval for n in range(int((max_time-min_time)/time_interval)+1)]\n",
        "print(tick_times)\n",
        "tick_labels = [f\"{int(t.total_seconds() // 60):d}:{t.total_seconds() % 60:.3f}\" for t in tick_times]\n",
        "print(tick_labels)\n",
        "# create x values for the plot\n",
        "x_values = range(len(predicted_lap_time_seconds))\n",
        "\n",
        "\n",
        "# plot lap times\n",
        "fig, ax = plt.subplots(figsize=(10,8))\n",
        "ax.plot(x_values, predicted_lap_time_seconds, '-o')\n",
        "\n",
        "ax.set_xlabel('Laps')\n",
        "ax.set_ylabel('Predicted Lap Time (mm:ss.sss)')\n",
        "ax.set_title('Predicted Lap Times')\n",
        "\n",
        "#ax.set_yticks([(time_obj - min_time).total_seconds() for time_obj in tick_times])\n",
        "ax.set_yticklabels(tick_labels)\n",
        "\n",
        "plt.show()\n",
        "\n",
        "\n"
      ],
      "metadata": {
        "colab": {
          "base_uri": "https://localhost:8080/",
          "height": 669
        },
        "id": "NdTTMU9XfUUT",
        "outputId": "ede029f1-a4a6-4b3a-f1f4-6c6a4f9e6132"
      },
      "execution_count": 170,
      "outputs": [
        {
          "output_type": "stream",
          "name": "stdout",
          "text": [
            "[datetime.timedelta(seconds=97, microseconds=407850), datetime.timedelta(seconds=97, microseconds=407850), datetime.timedelta(seconds=96, microseconds=204310), datetime.timedelta(seconds=96, microseconds=279920), datetime.timedelta(seconds=96, microseconds=34580), datetime.timedelta(seconds=95, microseconds=986270), datetime.timedelta(seconds=96, microseconds=56520), datetime.timedelta(seconds=96, microseconds=342050), datetime.timedelta(seconds=96, microseconds=58100), datetime.timedelta(seconds=95, microseconds=350830), datetime.timedelta(seconds=95, microseconds=302410), datetime.timedelta(seconds=95, microseconds=266740), datetime.timedelta(seconds=94, microseconds=782580), datetime.timedelta(seconds=94, microseconds=708440), datetime.timedelta(seconds=94, microseconds=721300)]\n",
            "['1:37.408', '1:37.408', '1:36.204', '1:36.280', '1:36.035', '1:35.986', '1:36.057', '1:36.342', '1:36.058', '1:35.351', '1:35.302', '1:35.267', '1:34.783', '1:34.708', '1:34.721']\n",
            "0:01:34.708440\n",
            "0:01:37.407850\n",
            "[datetime.timedelta(seconds=94, microseconds=708440), datetime.timedelta(seconds=94, microseconds=958440), datetime.timedelta(seconds=95, microseconds=208440), datetime.timedelta(seconds=95, microseconds=458440), datetime.timedelta(seconds=95, microseconds=708440), datetime.timedelta(seconds=95, microseconds=958440), datetime.timedelta(seconds=96, microseconds=208440), datetime.timedelta(seconds=96, microseconds=458440), datetime.timedelta(seconds=96, microseconds=708440), datetime.timedelta(seconds=96, microseconds=958440), datetime.timedelta(seconds=97, microseconds=208440)]\n",
            "['1:34.708', '1:34.958', '1:35.208', '1:35.458', '1:35.708', '1:35.958', '1:36.208', '1:36.458', '1:36.708', '1:36.958', '1:37.208']\n"
          ]
        },
        {
          "output_type": "stream",
          "name": "stderr",
          "text": [
            "<ipython-input-170-9d616100e4fc>:39: UserWarning: FixedFormatter should only be used together with FixedLocator\n",
            "  ax.set_yticklabels(tick_labels)\n"
          ]
        },
        {
          "output_type": "display_data",
          "data": {
            "text/plain": [
              "<Figure size 720x576 with 1 Axes>"
            ],
            "image/png": "[encoded data removed]"
          },
          "metadata": {
            "needs_background": "light"
          }
        }
      ]
    },
    {
      "cell_type": "code",
      "source": [
        "import joblib\n",
        "\n",
        "# save the model as a joblib file\n",
        "joblib.dump(model, 'AI_Lap_Predictor.joblib')\n"
      ],
      "metadata": {
        "colab": {
          "base_uri": "https://localhost:8080/"
        },
        "id": "z03mjZTTLtwq",
        "outputId": "dd4d5005-3a61-498c-9719-7be8e49971d4"
      },
      "execution_count": 172,
      "outputs": [
        {
          "output_type": "execute_result",
          "data": {
            "text/plain": [
              "['AI_Lap_Predictor.joblib']"
            ]
          },
          "metadata": {},
          "execution_count": 172
        }
      ]
    },
    {
      "cell_type": "code",
      "source": [
        "import joblib\n",
        "\n",
        "# load the saved model from the joblib file\n",
        "model = joblib.load('AI_Lap_Predictor.joblib')\n",
        "# assume new data is saved in a variable called 'new_data'\n",
        "model.fit(new_data)"
      ],
      "metadata": {
        "id": "ehY0FvhTEKfr"
      },
      "execution_count": null,
      "outputs": []
    }
  ]
}