{
  "nbformat": 4,
  "nbformat_minor": 0,
  "metadata": {
    "colab": {
      "provenance": []
    },
    "kernelspec": {
      "name": "python3",
      "display_name": "Python 3"
    },
    "language_info": {
      "name": "python"
    }
  },
  "cells": [
    {
      "cell_type": "code",
      "execution_count": 1,
      "metadata": {
        "colab": {
          "base_uri": "https://localhost:8080/"
        },
        "id": "wbiK33QhhrPx",
        "outputId": "43720744-21e7-4a9e-821c-9941498d22e6"
      },
      "outputs": [
        {
          "output_type": "stream",
          "name": "stdout",
          "text": [
            "Looking in indexes: https://pypi.org/simple, https://us-python.pkg.dev/colab-wheels/public/simple/\n",
            "Collecting fastf1\n",
            "  Downloading fastf1-2.3.0-py3-none-any.whl (79 kB)\n",
            "\u001b[2K     \u001b[90m━━━━━━━━━━━━━━━━━━━━━━━━━━━━━━━━━━━━━━━━\u001b[0m \u001b[32m79.4/79.4 KB\u001b[0m \u001b[31m2.7 MB/s\u001b[0m eta \u001b[36m0:00:00\u001b[0m\n",
            "\u001b[?25hCollecting requests-cache>=0.8.0\n",
            "  Downloading requests_cache-1.0.0-py3-none-any.whl (58 kB)\n",
            "\u001b[2K     \u001b[90m━━━━━━━━━━━━━━━━━━━━━━━━━━━━━━━━━━━━━━━━\u001b[0m \u001b[32m58.6/58.6 KB\u001b[0m \u001b[31m2.9 MB/s\u001b[0m eta \u001b[36m0:00:00\u001b[0m\n",
            "\u001b[?25hCollecting thefuzz\n",
            "  Downloading thefuzz-0.19.0-py2.py3-none-any.whl (17 kB)\n",
            "Requirement already satisfied: numpy>=1.17.3 in /usr/local/lib/python3.8/dist-packages (from fastf1) (1.22.4)\n",
            "Collecting signalr-client-aio\n",
            "  Downloading signalr_client_aio-0.0.1.6.2-py2.py3-none-any.whl (8.0 kB)\n",
            "Collecting timple>=0.1.2\n",
            "  Downloading timple-0.1.5-py3-none-any.whl (17 kB)\n",
            "Requirement already satisfied: scipy in /usr/local/lib/python3.8/dist-packages (from fastf1) (1.10.1)\n",
            "Requirement already satisfied: pandas>=1.1.0 in /usr/local/lib/python3.8/dist-packages (from fastf1) (1.3.5)\n",
            "Requirement already satisfied: matplotlib>=3.3.3 in /usr/local/lib/python3.8/dist-packages (from fastf1) (3.5.3)\n",
            "Requirement already satisfied: requests in /usr/local/lib/python3.8/dist-packages (from fastf1) (2.25.1)\n",
            "Requirement already satisfied: pyparsing>=2.2.1 in /usr/local/lib/python3.8/dist-packages (from matplotlib>=3.3.3->fastf1) (3.0.9)\n",
            "Requirement already satisfied: python-dateutil>=2.7 in /usr/local/lib/python3.8/dist-packages (from matplotlib>=3.3.3->fastf1) (2.8.2)\n",
            "Requirement already satisfied: pillow>=6.2.0 in /usr/local/lib/python3.8/dist-packages (from matplotlib>=3.3.3->fastf1) (8.4.0)\n",
            "Requirement already satisfied: fonttools>=4.22.0 in /usr/local/lib/python3.8/dist-packages (from matplotlib>=3.3.3->fastf1) (4.38.0)\n",
            "Requirement already satisfied: cycler>=0.10 in /usr/local/lib/python3.8/dist-packages (from matplotlib>=3.3.3->fastf1) (0.11.0)\n",
            "Requirement already satisfied: kiwisolver>=1.0.1 in /usr/local/lib/python3.8/dist-packages (from matplotlib>=3.3.3->fastf1) (1.4.4)\n",
            "Requirement already satisfied: packaging>=20.0 in /usr/local/lib/python3.8/dist-packages (from matplotlib>=3.3.3->fastf1) (23.0)\n",
            "Requirement already satisfied: pytz>=2017.3 in /usr/local/lib/python3.8/dist-packages (from pandas>=1.1.0->fastf1) (2022.7.1)\n",
            "Requirement already satisfied: platformdirs>=2.5 in /usr/local/lib/python3.8/dist-packages (from requests-cache>=0.8.0->fastf1) (3.0.0)\n",
            "Requirement already satisfied: attrs>=21.2 in /usr/local/lib/python3.8/dist-packages (from requests-cache>=0.8.0->fastf1) (22.2.0)\n",
            "Collecting cattrs>=22.2\n",
            "  Downloading cattrs-22.2.0-py3-none-any.whl (35 kB)\n",
            "Collecting url-normalize>=1.4\n",
            "  Downloading url_normalize-1.4.3-py2.py3-none-any.whl (6.8 kB)\n",
            "Requirement already satisfied: urllib3>=1.25.5 in /usr/local/lib/python3.8/dist-packages (from requests-cache>=0.8.0->fastf1) (1.26.14)\n",
            "Requirement already satisfied: certifi>=2017.4.17 in /usr/local/lib/python3.8/dist-packages (from requests->fastf1) (2022.12.7)\n",
            "Requirement already satisfied: chardet<5,>=3.0.2 in /usr/local/lib/python3.8/dist-packages (from requests->fastf1) (4.0.0)\n",
            "Requirement already satisfied: idna<3,>=2.5 in /usr/local/lib/python3.8/dist-packages (from requests->fastf1) (2.10)\n",
            "Collecting websockets>=4.0.1\n",
            "  Downloading websockets-10.4-cp38-cp38-manylinux_2_5_x86_64.manylinux1_x86_64.manylinux_2_17_x86_64.manylinux2014_x86_64.whl (106 kB)\n",
            "\u001b[2K     \u001b[90m━━━━━━━━━━━━━━━━━━━━━━━━━━━━━━━━━━━━━━━\u001b[0m \u001b[32m107.0/107.0 KB\u001b[0m \u001b[31m4.9 MB/s\u001b[0m eta \u001b[36m0:00:00\u001b[0m\n",
            "\u001b[?25hCollecting exceptiongroup\n",
            "  Downloading exceptiongroup-1.1.0-py3-none-any.whl (14 kB)\n",
            "Requirement already satisfied: six>=1.5 in /usr/local/lib/python3.8/dist-packages (from python-dateutil>=2.7->matplotlib>=3.3.3->fastf1) (1.15.0)\n",
            "Installing collected packages: thefuzz, websockets, url-normalize, exceptiongroup, signalr-client-aio, cattrs, timple, requests-cache, fastf1\n",
            "Successfully installed cattrs-22.2.0 exceptiongroup-1.1.0 fastf1-2.3.0 requests-cache-1.0.0 signalr-client-aio-0.0.1.6.2 thefuzz-0.19.0 timple-0.1.5 url-normalize-1.4.3 websockets-10.4\n",
            "Looking in indexes: https://pypi.org/simple, https://us-python.pkg.dev/colab-wheels/public/simple/\n",
            "Requirement already satisfied: timple in /usr/local/lib/python3.8/dist-packages (0.1.5)\n",
            "Requirement already satisfied: matplotlib in /usr/local/lib/python3.8/dist-packages (from timple) (3.5.3)\n",
            "Requirement already satisfied: numpy in /usr/local/lib/python3.8/dist-packages (from timple) (1.22.4)\n",
            "Requirement already satisfied: kiwisolver>=1.0.1 in /usr/local/lib/python3.8/dist-packages (from matplotlib->timple) (1.4.4)\n",
            "Requirement already satisfied: cycler>=0.10 in /usr/local/lib/python3.8/dist-packages (from matplotlib->timple) (0.11.0)\n",
            "Requirement already satisfied: packaging>=20.0 in /usr/local/lib/python3.8/dist-packages (from matplotlib->timple) (23.0)\n",
            "Requirement already satisfied: fonttools>=4.22.0 in /usr/local/lib/python3.8/dist-packages (from matplotlib->timple) (4.38.0)\n",
            "Requirement already satisfied: pyparsing>=2.2.1 in /usr/local/lib/python3.8/dist-packages (from matplotlib->timple) (3.0.9)\n",
            "Requirement already satisfied: python-dateutil>=2.7 in /usr/local/lib/python3.8/dist-packages (from matplotlib->timple) (2.8.2)\n",
            "Requirement already satisfied: pillow>=6.2.0 in /usr/local/lib/python3.8/dist-packages (from matplotlib->timple) (8.4.0)\n",
            "Requirement already satisfied: six>=1.5 in /usr/local/lib/python3.8/dist-packages (from python-dateutil>=2.7->matplotlib->timple) (1.15.0)\n"
          ]
        }
      ],
      "source": [
        "%matplotlib inline\n",
        "!pip install fastf1\n",
        "!pip install timple"
      ]
    },
    {
      "cell_type": "code",
      "source": [
        "import fastf1\n",
        "\n",
        "import matplotlib.pyplot as plt\n",
        "from matplotlib.collections import LineCollection\n",
        "from matplotlib import cm\n",
        "import numpy as np\n",
        "from timple.timedelta import strftimedelta\n",
        "import fastf1\n",
        "import fastf1.plotting\n",
        "from fastf1.core import Laps\n",
        "import pandas as pd\n",
        "from fastf1 import utils\n",
        "from fastf1 import plotting\n",
        "\n"
      ],
      "metadata": {
        "id": "G1ZajKiQiAhd"
      },
      "execution_count": 37,
      "outputs": []
    },
    {
      "cell_type": "code",
      "source": [
        "fastf1.Cache.enable_cache('/content/sample_data')  # replace with your cache directory\n"
      ],
      "metadata": {
        "id": "dL6K527EiDYQ"
      },
      "execution_count": 3,
      "outputs": []
    },
    {
      "cell_type": "code",
      "source": [
        "session_fp3 = fastf1.get_session(2022,1,'FP3')\n",
        "session_fp3.load()"
      ],
      "metadata": {
        "colab": {
          "base_uri": "https://localhost:8080/"
        },
        "id": "H4C8LOkHiOcV",
        "outputId": "174f02a4-b2f4-40e5-d266-0c190ceb0346"
      },
      "execution_count": 4,
      "outputs": [
        {
          "output_type": "stream",
          "name": "stderr",
          "text": [
            "WARNING:root:No lap data for driver 22\n"
          ]
        }
      ]
    },
    {
      "cell_type": "code",
      "source": [
        "session_q = fastf1.get_session(2022,1,'Q')\n",
        "session_q.load()"
      ],
      "metadata": {
        "id": "LyAZmSLyiQCB"
      },
      "execution_count": 5,
      "outputs": []
    },
    {
      "cell_type": "code",
      "source": [
        "driver = 'ALO'\n",
        "fp3_lap = session_fp3.laps.pick_driver(driver).pick_fastest()\n",
        "q_lap = session_q.laps.pick_driver(driver).pick_fastest()"
      ],
      "metadata": {
        "id": "lBqyfD7SiUxc"
      },
      "execution_count": 42,
      "outputs": []
    },
    {
      "cell_type": "code",
      "source": [
        "delta_time, ref_tel, compare_tel = utils.delta_time(fp3_lap, q_lap)\n"
      ],
      "metadata": {
        "id": "fsbinXPTjJbL"
      },
      "execution_count": 43,
      "outputs": []
    },
    {
      "cell_type": "code",
      "source": [
        "fig, ax = plt.subplots()\n",
        "color=plotting.team_color(q_lap['Team'])\n",
        "ax.plot(ref_tel['Distance'], delta_time, '--', color=color)\n",
        "ax.set_ylabel(\"<-- Qualy | FP3 -->\")\n",
        "plt.show()"
      ],
      "metadata": {
        "colab": {
          "base_uri": "https://localhost:8080/",
          "height": 265
        },
        "id": "CUhAaNSIk4xo",
        "outputId": "111e16db-b5d5-474a-861e-d080c1851421"
      },
      "execution_count": 46,
      "outputs": [
        {
          "output_type": "display_data",
          "data": {
            "text/plain": [
              "<Figure size 432x288 with 1 Axes>"
            ],
            "image/png": "[encoded data removed]"
          },
          "metadata": {}
        }
      ]
    }
  ]
}