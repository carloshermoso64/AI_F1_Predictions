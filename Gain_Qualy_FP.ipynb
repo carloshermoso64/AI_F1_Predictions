{
  "nbformat": 4,
  "nbformat_minor": 0,
  "metadata": {
    "colab": {
      "provenance": []
    },
    "kernelspec": {
      "name": "python3",
      "display_name": "Python 3"
    },
    "language_info": {
      "name": "python"
    }
  },
  "cells": [
    {
      "cell_type": "code",
      "execution_count": 1,
      "metadata": {
        "colab": {
          "base_uri": "https://localhost:8080/"
        },
        "id": "fLDWy8_wzBL1",
        "outputId": "1cff8f76-8acf-4dff-d363-fd7d6713ec18"
      },
      "outputs": [
        {
          "output_type": "stream",
          "name": "stdout",
          "text": [
            "Looking in indexes: https://pypi.org/simple, https://us-python.pkg.dev/colab-wheels/public/simple/\n",
            "Collecting fastf1\n",
            "  Downloading fastf1-2.3.0-py3-none-any.whl (79 kB)\n",
            "\u001b[2K     \u001b[90m━━━━━━━━━━━━━━━━━━━━━━━━━━━━━━━━━━━━━━━━\u001b[0m \u001b[32m79.4/79.4 KB\u001b[0m \u001b[31m2.5 MB/s\u001b[0m eta \u001b[36m0:00:00\u001b[0m\n",
            "\u001b[?25hRequirement already satisfied: pandas>=1.1.0 in /usr/local/lib/python3.8/dist-packages (from fastf1) (1.3.5)\n",
            "Requirement already satisfied: numpy>=1.17.3 in /usr/local/lib/python3.8/dist-packages (from fastf1) (1.22.4)\n",
            "Collecting requests-cache>=0.8.0\n",
            "  Downloading requests_cache-1.0.0-py3-none-any.whl (58 kB)\n",
            "\u001b[2K     \u001b[90m━━━━━━━━━━━━━━━━━━━━━━━━━━━━━━━━━━━━━━━━\u001b[0m \u001b[32m58.6/58.6 KB\u001b[0m \u001b[31m3.7 MB/s\u001b[0m eta \u001b[36m0:00:00\u001b[0m\n",
            "\u001b[?25hRequirement already satisfied: requests in /usr/local/lib/python3.8/dist-packages (from fastf1) (2.25.1)\n",
            "Collecting timple>=0.1.2\n",
            "  Downloading timple-0.1.5-py3-none-any.whl (17 kB)\n",
            "Collecting signalr-client-aio\n",
            "  Downloading signalr_client_aio-0.0.1.6.2-py2.py3-none-any.whl (8.0 kB)\n",
            "Requirement already satisfied: scipy in /usr/local/lib/python3.8/dist-packages (from fastf1) (1.7.3)\n",
            "Requirement already satisfied: matplotlib>=3.3.3 in /usr/local/lib/python3.8/dist-packages (from fastf1) (3.5.3)\n",
            "Collecting thefuzz\n",
            "  Downloading thefuzz-0.19.0-py2.py3-none-any.whl (17 kB)\n",
            "Requirement already satisfied: pyparsing>=2.2.1 in /usr/local/lib/python3.8/dist-packages (from matplotlib>=3.3.3->fastf1) (3.0.9)\n",
            "Requirement already satisfied: python-dateutil>=2.7 in /usr/local/lib/python3.8/dist-packages (from matplotlib>=3.3.3->fastf1) (2.8.2)\n",
            "Requirement already satisfied: kiwisolver>=1.0.1 in /usr/local/lib/python3.8/dist-packages (from matplotlib>=3.3.3->fastf1) (1.4.4)\n",
            "Requirement already satisfied: packaging>=20.0 in /usr/local/lib/python3.8/dist-packages (from matplotlib>=3.3.3->fastf1) (23.0)\n",
            "Requirement already satisfied: cycler>=0.10 in /usr/local/lib/python3.8/dist-packages (from matplotlib>=3.3.3->fastf1) (0.11.0)\n",
            "Requirement already satisfied: fonttools>=4.22.0 in /usr/local/lib/python3.8/dist-packages (from matplotlib>=3.3.3->fastf1) (4.38.0)\n",
            "Requirement already satisfied: pillow>=6.2.0 in /usr/local/lib/python3.8/dist-packages (from matplotlib>=3.3.3->fastf1) (8.4.0)\n",
            "Requirement already satisfied: pytz>=2017.3 in /usr/local/lib/python3.8/dist-packages (from pandas>=1.1.0->fastf1) (2022.7.1)\n",
            "Requirement already satisfied: urllib3>=1.25.5 in /usr/local/lib/python3.8/dist-packages (from requests-cache>=0.8.0->fastf1) (1.26.14)\n",
            "Collecting cattrs>=22.2\n",
            "  Downloading cattrs-22.2.0-py3-none-any.whl (35 kB)\n",
            "Requirement already satisfied: platformdirs>=2.5 in /usr/local/lib/python3.8/dist-packages (from requests-cache>=0.8.0->fastf1) (3.0.0)\n",
            "Requirement already satisfied: attrs>=21.2 in /usr/local/lib/python3.8/dist-packages (from requests-cache>=0.8.0->fastf1) (22.2.0)\n",
            "Collecting url-normalize>=1.4\n",
            "  Downloading url_normalize-1.4.3-py2.py3-none-any.whl (6.8 kB)\n",
            "Requirement already satisfied: certifi>=2017.4.17 in /usr/local/lib/python3.8/dist-packages (from requests->fastf1) (2022.12.7)\n",
            "Requirement already satisfied: chardet<5,>=3.0.2 in /usr/local/lib/python3.8/dist-packages (from requests->fastf1) (4.0.0)\n",
            "Requirement already satisfied: idna<3,>=2.5 in /usr/local/lib/python3.8/dist-packages (from requests->fastf1) (2.10)\n",
            "Collecting websockets>=4.0.1\n",
            "  Downloading websockets-10.4-cp38-cp38-manylinux_2_5_x86_64.manylinux1_x86_64.manylinux_2_17_x86_64.manylinux2014_x86_64.whl (106 kB)\n",
            "\u001b[2K     \u001b[90m━━━━━━━━━━━━━━━━━━━━━━━━━━━━━━━━━━━━━━━\u001b[0m \u001b[32m107.0/107.0 KB\u001b[0m \u001b[31m6.2 MB/s\u001b[0m eta \u001b[36m0:00:00\u001b[0m\n",
            "\u001b[?25hCollecting exceptiongroup\n",
            "  Downloading exceptiongroup-1.1.0-py3-none-any.whl (14 kB)\n",
            "Requirement already satisfied: six>=1.5 in /usr/local/lib/python3.8/dist-packages (from python-dateutil>=2.7->matplotlib>=3.3.3->fastf1) (1.15.0)\n",
            "Installing collected packages: thefuzz, websockets, url-normalize, exceptiongroup, signalr-client-aio, cattrs, timple, requests-cache, fastf1\n",
            "Successfully installed cattrs-22.2.0 exceptiongroup-1.1.0 fastf1-2.3.0 requests-cache-1.0.0 signalr-client-aio-0.0.1.6.2 thefuzz-0.19.0 timple-0.1.5 url-normalize-1.4.3 websockets-10.4\n",
            "Looking in indexes: https://pypi.org/simple, https://us-python.pkg.dev/colab-wheels/public/simple/\n",
            "Requirement already satisfied: timple in /usr/local/lib/python3.8/dist-packages (0.1.5)\n",
            "Requirement already satisfied: matplotlib in /usr/local/lib/python3.8/dist-packages (from timple) (3.5.3)\n",
            "Requirement already satisfied: numpy in /usr/local/lib/python3.8/dist-packages (from timple) (1.22.4)\n",
            "Requirement already satisfied: pyparsing>=2.2.1 in /usr/local/lib/python3.8/dist-packages (from matplotlib->timple) (3.0.9)\n",
            "Requirement already satisfied: fonttools>=4.22.0 in /usr/local/lib/python3.8/dist-packages (from matplotlib->timple) (4.38.0)\n",
            "Requirement already satisfied: packaging>=20.0 in /usr/local/lib/python3.8/dist-packages (from matplotlib->timple) (23.0)\n",
            "Requirement already satisfied: python-dateutil>=2.7 in /usr/local/lib/python3.8/dist-packages (from matplotlib->timple) (2.8.2)\n",
            "Requirement already satisfied: pillow>=6.2.0 in /usr/local/lib/python3.8/dist-packages (from matplotlib->timple) (8.4.0)\n",
            "Requirement already satisfied: kiwisolver>=1.0.1 in /usr/local/lib/python3.8/dist-packages (from matplotlib->timple) (1.4.4)\n",
            "Requirement already satisfied: cycler>=0.10 in /usr/local/lib/python3.8/dist-packages (from matplotlib->timple) (0.11.0)\n",
            "Requirement already satisfied: six>=1.5 in /usr/local/lib/python3.8/dist-packages (from python-dateutil>=2.7->matplotlib->timple) (1.15.0)\n"
          ]
        }
      ],
      "source": [
        "%matplotlib inline\n",
        "!pip install fastf1\n",
        "!pip install timple\n"
      ]
    },
    {
      "cell_type": "code",
      "source": [
        "import fastf1\n",
        "import pandas as pd\n",
        "\n",
        "# Get the telemetry data for the testing session\n",
        "fastf1.Cache.enable_cache('/content/sample_data')  # replace with your cache directory\n",
        "event = fastf1.get_event(2022, 'Bahrain')\n"
      ],
      "metadata": {
        "id": "kK9ZUPDyzCKT"
      },
      "execution_count": 2,
      "outputs": []
    },
    {
      "cell_type": "code",
      "source": [
        "from timple.timedelta import strftimedelta\n",
        "import fastf1\n",
        "import fastf1.plotting\n",
        "from fastf1.core import Laps\n"
      ],
      "metadata": {
        "id": "iRg_hE4q3lC7"
      },
      "execution_count": 15,
      "outputs": []
    },
    {
      "cell_type": "code",
      "source": [
        "session = fastf1.get_session(2022,1,'FP1')"
      ],
      "metadata": {
        "id": "HqAbATc0znpP"
      },
      "execution_count": 5,
      "outputs": []
    },
    {
      "cell_type": "code",
      "source": [
        "session.load()"
      ],
      "metadata": {
        "id": "rsugMioS0MkA"
      },
      "execution_count": 6,
      "outputs": []
    },
    {
      "cell_type": "code",
      "source": [
        "drivers = pd.unique(session.laps['Driver'])\n",
        "list_fastest_laps = list()\n",
        "for drv in drivers:\n",
        "    drvs_fastest_lap = session.laps.pick_driver(drv).pick_fastest()\n",
        "    list_fastest_laps.append(drvs_fastest_lap)\n",
        "fastest_laps = Laps(list_fastest_laps).sort_values(by='LapTime').reset_index(drop=True)\n",
        "print(fastest_laps.columns)"
      ],
      "metadata": {
        "colab": {
          "base_uri": "https://localhost:8080/"
        },
        "id": "3T9Y-Bp804X6",
        "outputId": "be49ba1a-dfcf-4f7b-e4b9-bc933c3bb773"
      },
      "execution_count": 70,
      "outputs": [
        {
          "output_type": "stream",
          "name": "stdout",
          "text": [
            "Index(['Time', 'DriverNumber', 'LapTime', 'LapNumber', 'PitOutTime',\n",
            "       'PitInTime', 'Sector1Time', 'Sector2Time', 'Sector3Time',\n",
            "       'Sector1SessionTime', 'Sector2SessionTime', 'Sector3SessionTime',\n",
            "       'SpeedI1', 'SpeedI2', 'SpeedFL', 'SpeedST', 'IsPersonalBest',\n",
            "       'Compound', 'TyreLife', 'FreshTyre', 'Stint', 'LapStartTime', 'Team',\n",
            "       'Driver', 'TrackStatus', 'IsAccurate', 'LapStartDate'],\n",
            "      dtype='object')\n"
          ]
        }
      ]
    },
    {
      "cell_type": "code",
      "source": [
        "df = fastest_laps[['Driver', 'Team', 'LapTime', 'Sector1Time', 'Sector2Time', 'Sector3Time']]\n",
        "df = df.rename(columns={'LapTime': 'LapTimeFP1', 'Sector1Time': 'Sector1TimeFP1', 'Sector2Time': 'Sector2TimeFP1', 'Sector3Time': 'Sector3TimeFP1'})\n",
        "df = df.sort_values(by=['Team'], ascending=True)\n",
        "\n",
        "print (df)"
      ],
      "metadata": {
        "colab": {
          "base_uri": "https://localhost:8080/"
        },
        "id": "XpuUWfZ24ZVn",
        "outputId": "9ec8aeb2-a5ff-4bdc-8a63-442003ab92e2"
      },
      "execution_count": 71,
      "outputs": [
        {
          "output_type": "stream",
          "name": "stdout",
          "text": [
            "   Driver             Team             LapTimeFP1         Sector1TimeFP1  \\\n",
            "10    ZHO       Alfa Romeo 0 days 00:01:35.053000 0 days 00:00:30.140000   \n",
            "0     GAS       AlphaTauri 0 days 00:01:34.193000 0 days 00:00:30.076000   \n",
            "8     TSU       AlphaTauri 0 days 00:01:35.028000 0 days 00:00:30.231000   \n",
            "11    OCO           Alpine 0 days 00:01:35.151000 0 days 00:00:30.167000   \n",
            "7     ALO           Alpine        0 days 00:01:35 0 days 00:00:30.297000   \n",
            "13    HUL     Aston Martin 0 days 00:01:35.815000 0 days 00:00:30.699000   \n",
            "5     STR     Aston Martin 0 days 00:01:34.814000 0 days 00:00:30.324000   \n",
            "1     LEC          Ferrari 0 days 00:01:34.557000 0 days 00:00:30.258000   \n",
            "2     SAI          Ferrari 0 days 00:01:34.611000 0 days 00:00:30.206000   \n",
            "18    MAG     Haas F1 Team 0 days 00:01:36.804000 0 days 00:00:30.945000   \n",
            "17    MSC     Haas F1 Team 0 days 00:01:36.536000 0 days 00:00:30.852000   \n",
            "15    NOR          McLaren 0 days 00:01:36.304000 0 days 00:00:30.711000   \n",
            "16    RIC          McLaren 0 days 00:01:36.402000 0 days 00:00:30.592000   \n",
            "6     HAM         Mercedes 0 days 00:01:34.943000 0 days 00:00:30.512000   \n",
            "3     RUS         Mercedes 0 days 00:01:34.629000 0 days 00:00:30.352000   \n",
            "4     VER  Red Bull Racing 0 days 00:01:34.742000 0 days 00:00:30.224000   \n",
            "9     PER  Red Bull Racing 0 days 00:01:35.050000 0 days 00:00:30.366000   \n",
            "12    LAT         Williams 0 days 00:01:35.644000 0 days 00:00:30.217000   \n",
            "14    ALB         Williams 0 days 00:01:35.923000 0 days 00:00:30.433000   \n",
            "19    NaN              NaN                    NaT                    NaT   \n",
            "\n",
            "           Sector2TimeFP1         Sector3TimeFP1  \n",
            "10 0 days 00:00:41.057000 0 days 00:00:23.856000  \n",
            "0  0 days 00:00:40.492000 0 days 00:00:23.625000  \n",
            "8  0 days 00:00:40.952000 0 days 00:00:23.845000  \n",
            "11 0 days 00:00:41.130000 0 days 00:00:23.854000  \n",
            "7  0 days 00:00:40.826000 0 days 00:00:23.877000  \n",
            "13 0 days 00:00:41.171000 0 days 00:00:23.945000  \n",
            "5  0 days 00:00:40.593000 0 days 00:00:23.897000  \n",
            "1  0 days 00:00:40.632000 0 days 00:00:23.667000  \n",
            "2  0 days 00:00:40.722000 0 days 00:00:23.683000  \n",
            "18 0 days 00:00:41.586000 0 days 00:00:24.273000  \n",
            "17 0 days 00:00:41.864000 0 days 00:00:23.820000  \n",
            "15 0 days 00:00:41.365000 0 days 00:00:24.228000  \n",
            "16 0 days 00:00:41.658000 0 days 00:00:24.152000  \n",
            "6  0 days 00:00:40.613000 0 days 00:00:23.818000  \n",
            "3  0 days 00:00:40.672000 0 days 00:00:23.605000  \n",
            "4  0 days 00:00:40.815000 0 days 00:00:23.703000  \n",
            "9  0 days 00:00:41.024000 0 days 00:00:23.660000  \n",
            "12 0 days 00:00:41.716000 0 days 00:00:23.711000  \n",
            "14 0 days 00:00:41.475000 0 days 00:00:24.015000  \n",
            "19                    NaT                    NaT  \n"
          ]
        }
      ]
    },
    {
      "cell_type": "code",
      "source": [
        "session_fp2 = fastf1.get_session(2022,1,'FP2')\n",
        "session_fp2.load()"
      ],
      "metadata": {
        "id": "xfE0qylQ8uDd"
      },
      "execution_count": 22,
      "outputs": []
    },
    {
      "cell_type": "code",
      "source": [
        "drivers = pd.unique(session_fp2.laps['Driver'])\n",
        "list_fastest_laps = list()\n",
        "for drv in drivers:\n",
        "    drvs_fastest_lap = session_fp2.laps.pick_driver(drv).pick_fastest()\n",
        "    list_fastest_laps.append(drvs_fastest_lap)\n",
        "fastest_laps = Laps(list_fastest_laps).sort_values(by='LapTime').reset_index(drop=True)\n",
        "\n",
        "df_fp2 = fastest_laps[['Driver', 'Team', 'LapTime', 'Sector1Time', 'Sector2Time', 'Sector3Time']]\n",
        "df_fp2 = df_fp2.rename(columns={'LapTime': 'LapTimeFP2', 'Sector1Time': 'Sector1TimeFP2', 'Sector2Time': 'Sector2TimeFP2', 'Sector3Time': 'Sector3TimeFP2'})\n",
        "df_fp2 = df_fp2.sort_values(by=['Team'], ascending=True)\n",
        "print(df_fp2)"
      ],
      "metadata": {
        "colab": {
          "base_uri": "https://localhost:8080/"
        },
        "id": "LV12tUav-4Ov",
        "outputId": "4099b634-bded-469c-88e6-5aa20366e346"
      },
      "execution_count": 72,
      "outputs": [
        {
          "output_type": "stream",
          "name": "stdout",
          "text": [
            "   Driver             Team             LapTimeFP2         Sector1TimeFP2  \\\n",
            "5     BOT       Alfa Romeo 0 days 00:01:32.951000 0 days 00:00:29.662000   \n",
            "14    ZHO       Alfa Romeo 0 days 00:01:33.953000 0 days 00:00:30.014000   \n",
            "12    GAS       AlphaTauri 0 days 00:01:33.621000 0 days 00:00:29.655000   \n",
            "13    TSU       AlphaTauri 0 days 00:01:33.789000 0 days 00:00:29.988000   \n",
            "4     ALO           Alpine 0 days 00:01:32.877000 0 days 00:00:29.800000   \n",
            "11    OCO           Alpine 0 days 00:01:33.360000 0 days 00:00:29.877000   \n",
            "16    HUL     Aston Martin 0 days 00:01:34.061000 0 days 00:00:30.220000   \n",
            "15    STR     Aston Martin 0 days 00:01:33.958000 0 days 00:00:30.088000   \n",
            "1     LEC          Ferrari 0 days 00:01:32.023000 0 days 00:00:29.454000   \n",
            "2     SAI          Ferrari 0 days 00:01:32.520000 0 days 00:00:29.621000   \n",
            "9     MAG     Haas F1 Team 0 days 00:01:33.183000 0 days 00:00:29.866000   \n",
            "7     MSC     Haas F1 Team 0 days 00:01:33.085000 0 days 00:00:29.881000   \n",
            "17    RIC          McLaren 0 days 00:01:34.166000 0 days 00:00:30.135000   \n",
            "10    NOR          McLaren 0 days 00:01:33.280000 0 days 00:00:29.967000   \n",
            "3     RUS         Mercedes 0 days 00:01:32.529000 0 days 00:00:29.817000   \n",
            "8     HAM         Mercedes 0 days 00:01:33.144000 0 days 00:00:30.115000   \n",
            "0     VER  Red Bull Racing 0 days 00:01:31.936000 0 days 00:00:29.376000   \n",
            "6     PER  Red Bull Racing 0 days 00:01:32.958000 0 days 00:00:30.029000   \n",
            "18    LAT         Williams 0 days 00:01:34.486000 0 days 00:00:30.265000   \n",
            "19    ALB         Williams 0 days 00:01:34.735000 0 days 00:00:30.128000   \n",
            "\n",
            "           Sector2TimeFP2         Sector3TimeFP2  \n",
            "5  0 days 00:00:39.965000 0 days 00:00:23.324000  \n",
            "14 0 days 00:00:40.280000 0 days 00:00:23.659000  \n",
            "12 0 days 00:00:40.323000 0 days 00:00:23.643000  \n",
            "13 0 days 00:00:40.273000 0 days 00:00:23.528000  \n",
            "4  0 days 00:00:39.682000 0 days 00:00:23.395000  \n",
            "11 0 days 00:00:40.051000 0 days 00:00:23.432000  \n",
            "16 0 days 00:00:40.156000 0 days 00:00:23.685000  \n",
            "15 0 days 00:00:40.251000 0 days 00:00:23.619000  \n",
            "1  0 days 00:00:39.482000 0 days 00:00:23.087000  \n",
            "2  0 days 00:00:39.587000 0 days 00:00:23.312000  \n",
            "9  0 days 00:00:39.962000 0 days 00:00:23.355000  \n",
            "7  0 days 00:00:40.016000 0 days 00:00:23.188000  \n",
            "17 0 days 00:00:40.198000 0 days 00:00:23.833000  \n",
            "10 0 days 00:00:39.687000 0 days 00:00:23.626000  \n",
            "3  0 days 00:00:39.484000 0 days 00:00:23.228000  \n",
            "8  0 days 00:00:39.694000 0 days 00:00:23.335000  \n",
            "0  0 days 00:00:39.507000 0 days 00:00:23.053000  \n",
            "6  0 days 00:00:39.637000 0 days 00:00:23.292000  \n",
            "18 0 days 00:00:40.618000 0 days 00:00:23.603000  \n",
            "19 0 days 00:00:40.667000 0 days 00:00:23.940000  \n"
          ]
        }
      ]
    },
    {
      "cell_type": "code",
      "source": [
        "if len(df) > len(df_fp2):\n",
        "    merge_direction = 'left'\n",
        "else:\n",
        "    merge_direction = 'right'\n",
        "\n",
        "results = pd.merge(df, df_fp2, on=['Driver', 'Team'], how=merge_direction)\n",
        "print(results)\n",
        "\n"
      ],
      "metadata": {
        "colab": {
          "base_uri": "https://localhost:8080/"
        },
        "id": "yEpk_UxN_gE9",
        "outputId": "69cc60ab-bdec-4b08-8726-4cbe877a5aa4"
      },
      "execution_count": 73,
      "outputs": [
        {
          "output_type": "stream",
          "name": "stdout",
          "text": [
            "   Driver             Team             LapTimeFP1         Sector1TimeFP1  \\\n",
            "0     BOT       Alfa Romeo                    NaT                    NaT   \n",
            "1     ZHO       Alfa Romeo 0 days 00:01:35.053000 0 days 00:00:30.140000   \n",
            "2     GAS       AlphaTauri 0 days 00:01:34.193000 0 days 00:00:30.076000   \n",
            "3     TSU       AlphaTauri 0 days 00:01:35.028000 0 days 00:00:30.231000   \n",
            "4     ALO           Alpine        0 days 00:01:35 0 days 00:00:30.297000   \n",
            "5     OCO           Alpine 0 days 00:01:35.151000 0 days 00:00:30.167000   \n",
            "6     HUL     Aston Martin 0 days 00:01:35.815000 0 days 00:00:30.699000   \n",
            "7     STR     Aston Martin 0 days 00:01:34.814000 0 days 00:00:30.324000   \n",
            "8     LEC          Ferrari 0 days 00:01:34.557000 0 days 00:00:30.258000   \n",
            "9     SAI          Ferrari 0 days 00:01:34.611000 0 days 00:00:30.206000   \n",
            "10    MAG     Haas F1 Team 0 days 00:01:36.804000 0 days 00:00:30.945000   \n",
            "11    MSC     Haas F1 Team 0 days 00:01:36.536000 0 days 00:00:30.852000   \n",
            "12    RIC          McLaren 0 days 00:01:36.402000 0 days 00:00:30.592000   \n",
            "13    NOR          McLaren 0 days 00:01:36.304000 0 days 00:00:30.711000   \n",
            "14    RUS         Mercedes 0 days 00:01:34.629000 0 days 00:00:30.352000   \n",
            "15    HAM         Mercedes 0 days 00:01:34.943000 0 days 00:00:30.512000   \n",
            "16    VER  Red Bull Racing 0 days 00:01:34.742000 0 days 00:00:30.224000   \n",
            "17    PER  Red Bull Racing 0 days 00:01:35.050000 0 days 00:00:30.366000   \n",
            "18    LAT         Williams 0 days 00:01:35.644000 0 days 00:00:30.217000   \n",
            "19    ALB         Williams 0 days 00:01:35.923000 0 days 00:00:30.433000   \n",
            "\n",
            "           Sector2TimeFP1         Sector3TimeFP1             LapTimeFP2  \\\n",
            "0                     NaT                    NaT 0 days 00:01:32.951000   \n",
            "1  0 days 00:00:41.057000 0 days 00:00:23.856000 0 days 00:01:33.953000   \n",
            "2  0 days 00:00:40.492000 0 days 00:00:23.625000 0 days 00:01:33.621000   \n",
            "3  0 days 00:00:40.952000 0 days 00:00:23.845000 0 days 00:01:33.789000   \n",
            "4  0 days 00:00:40.826000 0 days 00:00:23.877000 0 days 00:01:32.877000   \n",
            "5  0 days 00:00:41.130000 0 days 00:00:23.854000 0 days 00:01:33.360000   \n",
            "6  0 days 00:00:41.171000 0 days 00:00:23.945000 0 days 00:01:34.061000   \n",
            "7  0 days 00:00:40.593000 0 days 00:00:23.897000 0 days 00:01:33.958000   \n",
            "8  0 days 00:00:40.632000 0 days 00:00:23.667000 0 days 00:01:32.023000   \n",
            "9  0 days 00:00:40.722000 0 days 00:00:23.683000 0 days 00:01:32.520000   \n",
            "10 0 days 00:00:41.586000 0 days 00:00:24.273000 0 days 00:01:33.183000   \n",
            "11 0 days 00:00:41.864000 0 days 00:00:23.820000 0 days 00:01:33.085000   \n",
            "12 0 days 00:00:41.658000 0 days 00:00:24.152000 0 days 00:01:34.166000   \n",
            "13 0 days 00:00:41.365000 0 days 00:00:24.228000 0 days 00:01:33.280000   \n",
            "14 0 days 00:00:40.672000 0 days 00:00:23.605000 0 days 00:01:32.529000   \n",
            "15 0 days 00:00:40.613000 0 days 00:00:23.818000 0 days 00:01:33.144000   \n",
            "16 0 days 00:00:40.815000 0 days 00:00:23.703000 0 days 00:01:31.936000   \n",
            "17 0 days 00:00:41.024000 0 days 00:00:23.660000 0 days 00:01:32.958000   \n",
            "18 0 days 00:00:41.716000 0 days 00:00:23.711000 0 days 00:01:34.486000   \n",
            "19 0 days 00:00:41.475000 0 days 00:00:24.015000 0 days 00:01:34.735000   \n",
            "\n",
            "           Sector1TimeFP2         Sector2TimeFP2         Sector3TimeFP2  \n",
            "0  0 days 00:00:29.662000 0 days 00:00:39.965000 0 days 00:00:23.324000  \n",
            "1  0 days 00:00:30.014000 0 days 00:00:40.280000 0 days 00:00:23.659000  \n",
            "2  0 days 00:00:29.655000 0 days 00:00:40.323000 0 days 00:00:23.643000  \n",
            "3  0 days 00:00:29.988000 0 days 00:00:40.273000 0 days 00:00:23.528000  \n",
            "4  0 days 00:00:29.800000 0 days 00:00:39.682000 0 days 00:00:23.395000  \n",
            "5  0 days 00:00:29.877000 0 days 00:00:40.051000 0 days 00:00:23.432000  \n",
            "6  0 days 00:00:30.220000 0 days 00:00:40.156000 0 days 00:00:23.685000  \n",
            "7  0 days 00:00:30.088000 0 days 00:00:40.251000 0 days 00:00:23.619000  \n",
            "8  0 days 00:00:29.454000 0 days 00:00:39.482000 0 days 00:00:23.087000  \n",
            "9  0 days 00:00:29.621000 0 days 00:00:39.587000 0 days 00:00:23.312000  \n",
            "10 0 days 00:00:29.866000 0 days 00:00:39.962000 0 days 00:00:23.355000  \n",
            "11 0 days 00:00:29.881000 0 days 00:00:40.016000 0 days 00:00:23.188000  \n",
            "12 0 days 00:00:30.135000 0 days 00:00:40.198000 0 days 00:00:23.833000  \n",
            "13 0 days 00:00:29.967000 0 days 00:00:39.687000 0 days 00:00:23.626000  \n",
            "14 0 days 00:00:29.817000 0 days 00:00:39.484000 0 days 00:00:23.228000  \n",
            "15 0 days 00:00:30.115000 0 days 00:00:39.694000 0 days 00:00:23.335000  \n",
            "16 0 days 00:00:29.376000 0 days 00:00:39.507000 0 days 00:00:23.053000  \n",
            "17 0 days 00:00:30.029000 0 days 00:00:39.637000 0 days 00:00:23.292000  \n",
            "18 0 days 00:00:30.265000 0 days 00:00:40.618000 0 days 00:00:23.603000  \n",
            "19 0 days 00:00:30.128000 0 days 00:00:40.667000 0 days 00:00:23.940000  \n"
          ]
        }
      ]
    },
    {
      "cell_type": "code",
      "source": [
        "session_fp3 = fastf1.get_session(2022,1,'FP3')\n",
        "session_fp3.load()"
      ],
      "metadata": {
        "colab": {
          "base_uri": "https://localhost:8080/"
        },
        "id": "3kkB5IpYDuG3",
        "outputId": "5a0fe64d-f4f7-420c-c4c8-9e33522e713b"
      },
      "execution_count": 41,
      "outputs": [
        {
          "output_type": "stream",
          "name": "stderr",
          "text": [
            "WARNING:root:No lap data for driver 22\n"
          ]
        }
      ]
    },
    {
      "cell_type": "code",
      "source": [
        "drivers = pd.unique(session_fp3.laps['Driver'])\n",
        "list_fastest_laps = list()\n",
        "\n",
        "for drv in drivers:\n",
        "    drvs_fastest_lap = session_fp3.laps.pick_driver(drv).pick_fastest()\n",
        "    list_fastest_laps.append(drvs_fastest_lap)\n",
        "fastest_laps = Laps(list_fastest_laps).sort_values(by='LapTime').reset_index(drop=True)\n",
        "\n",
        "df_fp3 = fastest_laps[['Driver', 'Team', 'LapTime', 'Sector1Time', 'Sector2Time', 'Sector3Time']]\n",
        "df_fp3 = df_fp3.rename(columns={'LapTime': 'LapTimeFP3', 'Sector1Time': 'Sector1TimeFP3', 'Sector2Time': 'Sector2TimeFP3', 'Sector3Time': 'Sector3TimeFP3'})\n",
        "\n",
        "df_fp3 = df_fp3.sort_values(by=['Team'], ascending=True)\n",
        "\n",
        "print(df_fp3.columns)"
      ],
      "metadata": {
        "colab": {
          "base_uri": "https://localhost:8080/"
        },
        "id": "IdA7A88dEZ5p",
        "outputId": "66295588-f212-43e7-9efc-41412a7a808f"
      },
      "execution_count": 74,
      "outputs": [
        {
          "output_type": "stream",
          "name": "stdout",
          "text": [
            "Index(['Driver', 'Team', 'LapTimeFP3', 'Sector1TimeFP3', 'Sector2TimeFP3',\n",
            "       'Sector3TimeFP3'],\n",
            "      dtype='object')\n"
          ]
        }
      ]
    },
    {
      "cell_type": "code",
      "source": [
        "if len(results) > len(df_fp3):\n",
        "    merge_direction = 'left'\n",
        "else:\n",
        "    merge_direction = 'right'\n",
        "\n",
        "results = pd.merge(results, df_fp3, on=['Driver', 'Team'], how=merge_direction)\n",
        "print(results)\n"
      ],
      "metadata": {
        "colab": {
          "base_uri": "https://localhost:8080/"
        },
        "id": "RGuaB73EFnce",
        "outputId": "03192f44-ab3f-4e37-f45d-6a5927515513"
      },
      "execution_count": 75,
      "outputs": [
        {
          "output_type": "stream",
          "name": "stdout",
          "text": [
            "   Driver             Team             LapTimeFP1         Sector1TimeFP1  \\\n",
            "0     BOT       Alfa Romeo                    NaT                    NaT   \n",
            "1     ZHO       Alfa Romeo 0 days 00:01:35.053000 0 days 00:00:30.140000   \n",
            "2     GAS       AlphaTauri 0 days 00:01:34.193000 0 days 00:00:30.076000   \n",
            "3     TSU       AlphaTauri 0 days 00:01:35.028000 0 days 00:00:30.231000   \n",
            "4     ALO           Alpine        0 days 00:01:35 0 days 00:00:30.297000   \n",
            "5     OCO           Alpine 0 days 00:01:35.151000 0 days 00:00:30.167000   \n",
            "6     HUL     Aston Martin 0 days 00:01:35.815000 0 days 00:00:30.699000   \n",
            "7     STR     Aston Martin 0 days 00:01:34.814000 0 days 00:00:30.324000   \n",
            "8     LEC          Ferrari 0 days 00:01:34.557000 0 days 00:00:30.258000   \n",
            "9     SAI          Ferrari 0 days 00:01:34.611000 0 days 00:00:30.206000   \n",
            "10    MAG     Haas F1 Team 0 days 00:01:36.804000 0 days 00:00:30.945000   \n",
            "11    MSC     Haas F1 Team 0 days 00:01:36.536000 0 days 00:00:30.852000   \n",
            "12    RIC          McLaren 0 days 00:01:36.402000 0 days 00:00:30.592000   \n",
            "13    NOR          McLaren 0 days 00:01:36.304000 0 days 00:00:30.711000   \n",
            "14    RUS         Mercedes 0 days 00:01:34.629000 0 days 00:00:30.352000   \n",
            "15    HAM         Mercedes 0 days 00:01:34.943000 0 days 00:00:30.512000   \n",
            "16    VER  Red Bull Racing 0 days 00:01:34.742000 0 days 00:00:30.224000   \n",
            "17    PER  Red Bull Racing 0 days 00:01:35.050000 0 days 00:00:30.366000   \n",
            "18    LAT         Williams 0 days 00:01:35.644000 0 days 00:00:30.217000   \n",
            "19    ALB         Williams 0 days 00:01:35.923000 0 days 00:00:30.433000   \n",
            "\n",
            "           Sector2TimeFP1         Sector3TimeFP1             LapTimeFP2  \\\n",
            "0                     NaT                    NaT 0 days 00:01:32.951000   \n",
            "1  0 days 00:00:41.057000 0 days 00:00:23.856000 0 days 00:01:33.953000   \n",
            "2  0 days 00:00:40.492000 0 days 00:00:23.625000 0 days 00:01:33.621000   \n",
            "3  0 days 00:00:40.952000 0 days 00:00:23.845000 0 days 00:01:33.789000   \n",
            "4  0 days 00:00:40.826000 0 days 00:00:23.877000 0 days 00:01:32.877000   \n",
            "5  0 days 00:00:41.130000 0 days 00:00:23.854000 0 days 00:01:33.360000   \n",
            "6  0 days 00:00:41.171000 0 days 00:00:23.945000 0 days 00:01:34.061000   \n",
            "7  0 days 00:00:40.593000 0 days 00:00:23.897000 0 days 00:01:33.958000   \n",
            "8  0 days 00:00:40.632000 0 days 00:00:23.667000 0 days 00:01:32.023000   \n",
            "9  0 days 00:00:40.722000 0 days 00:00:23.683000 0 days 00:01:32.520000   \n",
            "10 0 days 00:00:41.586000 0 days 00:00:24.273000 0 days 00:01:33.183000   \n",
            "11 0 days 00:00:41.864000 0 days 00:00:23.820000 0 days 00:01:33.085000   \n",
            "12 0 days 00:00:41.658000 0 days 00:00:24.152000 0 days 00:01:34.166000   \n",
            "13 0 days 00:00:41.365000 0 days 00:00:24.228000 0 days 00:01:33.280000   \n",
            "14 0 days 00:00:40.672000 0 days 00:00:23.605000 0 days 00:01:32.529000   \n",
            "15 0 days 00:00:40.613000 0 days 00:00:23.818000 0 days 00:01:33.144000   \n",
            "16 0 days 00:00:40.815000 0 days 00:00:23.703000 0 days 00:01:31.936000   \n",
            "17 0 days 00:00:41.024000 0 days 00:00:23.660000 0 days 00:01:32.958000   \n",
            "18 0 days 00:00:41.716000 0 days 00:00:23.711000 0 days 00:01:34.486000   \n",
            "19 0 days 00:00:41.475000 0 days 00:00:24.015000 0 days 00:01:34.735000   \n",
            "\n",
            "           Sector1TimeFP2         Sector2TimeFP2         Sector3TimeFP2  \\\n",
            "0  0 days 00:00:29.662000 0 days 00:00:39.965000 0 days 00:00:23.324000   \n",
            "1  0 days 00:00:30.014000 0 days 00:00:40.280000 0 days 00:00:23.659000   \n",
            "2  0 days 00:00:29.655000 0 days 00:00:40.323000 0 days 00:00:23.643000   \n",
            "3  0 days 00:00:29.988000 0 days 00:00:40.273000 0 days 00:00:23.528000   \n",
            "4  0 days 00:00:29.800000 0 days 00:00:39.682000 0 days 00:00:23.395000   \n",
            "5  0 days 00:00:29.877000 0 days 00:00:40.051000 0 days 00:00:23.432000   \n",
            "6  0 days 00:00:30.220000 0 days 00:00:40.156000 0 days 00:00:23.685000   \n",
            "7  0 days 00:00:30.088000 0 days 00:00:40.251000 0 days 00:00:23.619000   \n",
            "8  0 days 00:00:29.454000 0 days 00:00:39.482000 0 days 00:00:23.087000   \n",
            "9  0 days 00:00:29.621000 0 days 00:00:39.587000 0 days 00:00:23.312000   \n",
            "10 0 days 00:00:29.866000 0 days 00:00:39.962000 0 days 00:00:23.355000   \n",
            "11 0 days 00:00:29.881000 0 days 00:00:40.016000 0 days 00:00:23.188000   \n",
            "12 0 days 00:00:30.135000 0 days 00:00:40.198000 0 days 00:00:23.833000   \n",
            "13 0 days 00:00:29.967000 0 days 00:00:39.687000 0 days 00:00:23.626000   \n",
            "14 0 days 00:00:29.817000 0 days 00:00:39.484000 0 days 00:00:23.228000   \n",
            "15 0 days 00:00:30.115000 0 days 00:00:39.694000 0 days 00:00:23.335000   \n",
            "16 0 days 00:00:29.376000 0 days 00:00:39.507000 0 days 00:00:23.053000   \n",
            "17 0 days 00:00:30.029000 0 days 00:00:39.637000 0 days 00:00:23.292000   \n",
            "18 0 days 00:00:30.265000 0 days 00:00:40.618000 0 days 00:00:23.603000   \n",
            "19 0 days 00:00:30.128000 0 days 00:00:40.667000 0 days 00:00:23.940000   \n",
            "\n",
            "               LapTimeFP3         Sector1TimeFP3         Sector2TimeFP3  \\\n",
            "0  0 days 00:01:33.733000 0 days 00:00:30.097000 0 days 00:00:40.138000   \n",
            "1  0 days 00:01:33.880000 0 days 00:00:30.013000 0 days 00:00:40.362000   \n",
            "2  0 days 00:01:34.176000 0 days 00:00:29.978000 0 days 00:00:40.544000   \n",
            "3                     NaT                    NaT                    NaT   \n",
            "4  0 days 00:01:34.628000 0 days 00:00:30.202000 0 days 00:00:40.870000   \n",
            "5  0 days 00:01:34.957000 0 days 00:00:30.221000 0 days 00:00:40.942000   \n",
            "6  0 days 00:01:33.971000 0 days 00:00:30.032000 0 days 00:00:40.468000   \n",
            "7  0 days 00:01:33.920000 0 days 00:00:29.867000 0 days 00:00:40.386000   \n",
            "8  0 days 00:01:32.640000 0 days 00:00:29.668000 0 days 00:00:39.598000   \n",
            "9  0 days 00:01:33.053000 0 days 00:00:29.768000 0 days 00:00:39.990000   \n",
            "10 0 days 00:01:33.437000 0 days 00:00:29.768000 0 days 00:00:40.369000   \n",
            "11 0 days 00:01:34.295000 0 days 00:00:30.624000 0 days 00:00:40.228000   \n",
            "12 0 days 00:01:34.378000 0 days 00:00:30.221000 0 days 00:00:40.520000   \n",
            "13 0 days 00:01:33.955000 0 days 00:00:30.123000 0 days 00:00:40.257000   \n",
            "14 0 days 00:01:32.935000 0 days 00:00:29.973000 0 days 00:00:39.869000   \n",
            "15 0 days 00:01:33.121000 0 days 00:00:29.632000 0 days 00:00:40.182000   \n",
            "16 0 days 00:01:32.544000 0 days 00:00:29.716000 0 days 00:00:39.572000   \n",
            "17 0 days 00:01:32.791000 0 days 00:00:29.574000 0 days 00:00:40.083000   \n",
            "18 0 days 00:01:35.667000 0 days 00:00:30.525000 0 days 00:00:41.300000   \n",
            "19 0 days 00:01:34.868000 0 days 00:00:30.189000 0 days 00:00:40.906000   \n",
            "\n",
            "           Sector3TimeFP3  \n",
            "0  0 days 00:00:23.498000  \n",
            "1  0 days 00:00:23.505000  \n",
            "2  0 days 00:00:23.654000  \n",
            "3                     NaT  \n",
            "4  0 days 00:00:23.556000  \n",
            "5  0 days 00:00:23.794000  \n",
            "6  0 days 00:00:23.471000  \n",
            "7  0 days 00:00:23.667000  \n",
            "8  0 days 00:00:23.374000  \n",
            "9  0 days 00:00:23.295000  \n",
            "10 0 days 00:00:23.300000  \n",
            "11 0 days 00:00:23.443000  \n",
            "12 0 days 00:00:23.637000  \n",
            "13 0 days 00:00:23.575000  \n",
            "14 0 days 00:00:23.093000  \n",
            "15 0 days 00:00:23.307000  \n",
            "16 0 days 00:00:23.256000  \n",
            "17 0 days 00:00:23.134000  \n",
            "18 0 days 00:00:23.842000  \n",
            "19 0 days 00:00:23.773000  \n"
          ]
        }
      ]
    },
    {
      "cell_type": "code",
      "source": [
        "session_q = fastf1.get_session(2022,1,'Q')\n",
        "session_q.load()"
      ],
      "metadata": {
        "id": "zGUt5W7xLpb8"
      },
      "execution_count": 63,
      "outputs": []
    },
    {
      "cell_type": "code",
      "source": [
        "drivers = pd.unique(session_q.laps['Driver'])\n",
        "list_fastest_laps = list()\n",
        "\n",
        "for drv in drivers:\n",
        "    drvs_fastest_lap = session_q.laps.pick_driver(drv).pick_fastest()\n",
        "    list_fastest_laps.append(drvs_fastest_lap)\n",
        "fastest_laps = Laps(list_fastest_laps).sort_values(by='LapTime').reset_index(drop=True)\n",
        "\n",
        "df_q = fastest_laps[['Driver', 'Team', 'LapTime', 'Sector1Time', 'Sector2Time', 'Sector3Time']]\n",
        "df_q = df_q.rename(columns={'LapTime': 'LapTimeQ', 'Sector1Time': 'Sector1TimeQ', 'Sector2Time': 'Sector2TimeQ', 'Sector3Time': 'Sector3TimeQ'})\n",
        "\n",
        "df_q = df_q.sort_values(by=['Team'], ascending=True)\n",
        "\n",
        "print(df_q)"
      ],
      "metadata": {
        "colab": {
          "base_uri": "https://localhost:8080/"
        },
        "id": "mXP2h4wENF5Z",
        "outputId": "4567a14b-e5d8-4442-d1b9-bc589fe9fe41"
      },
      "execution_count": 76,
      "outputs": [
        {
          "output_type": "stream",
          "name": "stdout",
          "text": [
            "   Driver             Team               LapTimeQ           Sector1TimeQ  \\\n",
            "5     BOT       Alfa Romeo 0 days 00:01:31.560000 0 days 00:00:29.203000   \n",
            "18    ZHO       Alfa Romeo 0 days 00:01:33.543000 0 days 00:00:29.826000   \n",
            "14    TSU       AlphaTauri 0 days 00:01:32.750000 0 days 00:00:29.724000   \n",
            "12    GAS       AlphaTauri 0 days 00:01:32.338000 0 days 00:00:29.392000   \n",
            "6     OCO           Alpine 0 days 00:01:31.782000 0 days 00:00:29.407000   \n",
            "10    ALO           Alpine 0 days 00:01:32.195000 0 days 00:00:29.470000   \n",
            "17    STR     Aston Martin 0 days 00:01:33.032000 0 days 00:00:29.906000   \n",
            "15    HUL     Aston Martin 0 days 00:01:32.777000 0 days 00:00:29.833000   \n",
            "0     LEC          Ferrari 0 days 00:01:30.558000 0 days 00:00:29.115000   \n",
            "2     SAI          Ferrari 0 days 00:01:30.687000 0 days 00:00:29.036000   \n",
            "7     MAG     Haas F1 Team 0 days 00:01:31.808000 0 days 00:00:29.310000   \n",
            "8     MSC     Haas F1 Team 0 days 00:01:31.998000 0 days 00:00:29.538000   \n",
            "16    RIC          McLaren 0 days 00:01:32.945000 0 days 00:00:29.763000   \n",
            "9     NOR          McLaren 0 days 00:01:32.008000 0 days 00:00:29.544000   \n",
            "11    RUS         Mercedes 0 days 00:01:32.216000 0 days 00:00:30.002000   \n",
            "4     HAM         Mercedes 0 days 00:01:31.238000 0 days 00:00:29.384000   \n",
            "3     PER  Red Bull Racing 0 days 00:01:30.921000 0 days 00:00:29.180000   \n",
            "1     VER  Red Bull Racing 0 days 00:01:30.681000 0 days 00:00:28.970000   \n",
            "13    ALB         Williams 0 days 00:01:32.664000 0 days 00:00:29.564000   \n",
            "19    LAT         Williams 0 days 00:01:33.634000 0 days 00:00:29.810000   \n",
            "\n",
            "             Sector2TimeQ           Sector3TimeQ  \n",
            "5  0 days 00:00:39.296000 0 days 00:00:23.061000  \n",
            "18 0 days 00:00:40.401000 0 days 00:00:23.316000  \n",
            "14 0 days 00:00:39.811000 0 days 00:00:23.215000  \n",
            "12 0 days 00:00:39.815000 0 days 00:00:23.131000  \n",
            "6  0 days 00:00:39.294000 0 days 00:00:23.081000  \n",
            "10 0 days 00:00:39.551000 0 days 00:00:23.174000  \n",
            "17 0 days 00:00:39.844000 0 days 00:00:23.282000  \n",
            "15 0 days 00:00:39.760000 0 days 00:00:23.184000  \n",
            "0  0 days 00:00:38.702000 0 days 00:00:22.741000  \n",
            "2  0 days 00:00:38.842000 0 days 00:00:22.809000  \n",
            "7  0 days 00:00:39.456000 0 days 00:00:23.042000  \n",
            "8  0 days 00:00:39.430000 0 days 00:00:23.030000  \n",
            "16 0 days 00:00:39.862000 0 days 00:00:23.320000  \n",
            "9  0 days 00:00:39.355000 0 days 00:00:23.109000  \n",
            "11 0 days 00:00:39.362000 0 days 00:00:22.852000  \n",
            "4  0 days 00:00:38.965000 0 days 00:00:22.889000  \n",
            "3  0 days 00:00:38.894000 0 days 00:00:22.847000  \n",
            "1  0 days 00:00:38.832000 0 days 00:00:22.879000  \n",
            "13 0 days 00:00:39.897000 0 days 00:00:23.203000  \n",
            "19 0 days 00:00:40.495000 0 days 00:00:23.329000  \n"
          ]
        }
      ]
    },
    {
      "cell_type": "code",
      "source": [
        "if len(results) >= len(df_q):\n",
        "    merge_direction = 'left'\n",
        "else:\n",
        "    merge_direction = 'right'\n",
        "\n",
        "results = pd.merge(results, df_q, on=['Driver', 'Team'], how=merge_direction)\n",
        "results = results.sort_values(by='LapTimeQ').reset_index(drop=True)\n"
      ],
      "metadata": {
        "id": "J0rsTqF0N1LY"
      },
      "execution_count": 77,
      "outputs": []
    },
    {
      "cell_type": "code",
      "source": [
        "results = results[['Driver', 'Team', 'LapTimeQ', 'LapTimeFP3', 'LapTimeFP2', 'LapTimeFP1',\n",
        "                   'Sector1TimeFP3', 'Sector1TimeFP2', 'Sector1TimeFP1', \n",
        "                   'Sector2TimeFP3', 'Sector2TimeFP2', 'Sector2TimeFP1', \n",
        "                   'Sector3TimeFP3', 'Sector3TimeFP2', 'Sector3TimeFP1']]\n"
      ],
      "metadata": {
        "id": "zsJKcks3Pl-y"
      },
      "execution_count": 80,
      "outputs": []
    },
    {
      "cell_type": "code",
      "source": [
        "print (results)"
      ],
      "metadata": {
        "colab": {
          "base_uri": "https://localhost:8080/"
        },
        "id": "Ssep7g1OQ11f",
        "outputId": "5534f059-886d-4afc-be43-7b238f58ccd8"
      },
      "execution_count": 81,
      "outputs": [
        {
          "output_type": "stream",
          "name": "stdout",
          "text": [
            "   Driver             Team               LapTimeQ             LapTimeFP3  \\\n",
            "0     LEC          Ferrari 0 days 00:01:30.558000 0 days 00:01:32.640000   \n",
            "1     VER  Red Bull Racing 0 days 00:01:30.681000 0 days 00:01:32.544000   \n",
            "2     SAI          Ferrari 0 days 00:01:30.687000 0 days 00:01:33.053000   \n",
            "3     PER  Red Bull Racing 0 days 00:01:30.921000 0 days 00:01:32.791000   \n",
            "4     HAM         Mercedes 0 days 00:01:31.238000 0 days 00:01:33.121000   \n",
            "5     BOT       Alfa Romeo 0 days 00:01:31.560000 0 days 00:01:33.733000   \n",
            "6     OCO           Alpine 0 days 00:01:31.782000 0 days 00:01:34.957000   \n",
            "7     MAG     Haas F1 Team 0 days 00:01:31.808000 0 days 00:01:33.437000   \n",
            "8     MSC     Haas F1 Team 0 days 00:01:31.998000 0 days 00:01:34.295000   \n",
            "9     NOR          McLaren 0 days 00:01:32.008000 0 days 00:01:33.955000   \n",
            "10    ALO           Alpine 0 days 00:01:32.195000 0 days 00:01:34.628000   \n",
            "11    RUS         Mercedes 0 days 00:01:32.216000 0 days 00:01:32.935000   \n",
            "12    GAS       AlphaTauri 0 days 00:01:32.338000 0 days 00:01:34.176000   \n",
            "13    ALB         Williams 0 days 00:01:32.664000 0 days 00:01:34.868000   \n",
            "14    TSU       AlphaTauri 0 days 00:01:32.750000                    NaT   \n",
            "15    HUL     Aston Martin 0 days 00:01:32.777000 0 days 00:01:33.971000   \n",
            "16    RIC          McLaren 0 days 00:01:32.945000 0 days 00:01:34.378000   \n",
            "17    STR     Aston Martin 0 days 00:01:33.032000 0 days 00:01:33.920000   \n",
            "18    ZHO       Alfa Romeo 0 days 00:01:33.543000 0 days 00:01:33.880000   \n",
            "19    LAT         Williams 0 days 00:01:33.634000 0 days 00:01:35.667000   \n",
            "\n",
            "               LapTimeFP2             LapTimeFP1         Sector1TimeFP3  \\\n",
            "0  0 days 00:01:32.023000 0 days 00:01:34.557000 0 days 00:00:29.668000   \n",
            "1  0 days 00:01:31.936000 0 days 00:01:34.742000 0 days 00:00:29.716000   \n",
            "2  0 days 00:01:32.520000 0 days 00:01:34.611000 0 days 00:00:29.768000   \n",
            "3  0 days 00:01:32.958000 0 days 00:01:35.050000 0 days 00:00:29.574000   \n",
            "4  0 days 00:01:33.144000 0 days 00:01:34.943000 0 days 00:00:29.632000   \n",
            "5  0 days 00:01:32.951000                    NaT 0 days 00:00:30.097000   \n",
            "6  0 days 00:01:33.360000 0 days 00:01:35.151000 0 days 00:00:30.221000   \n",
            "7  0 days 00:01:33.183000 0 days 00:01:36.804000 0 days 00:00:29.768000   \n",
            "8  0 days 00:01:33.085000 0 days 00:01:36.536000 0 days 00:00:30.624000   \n",
            "9  0 days 00:01:33.280000 0 days 00:01:36.304000 0 days 00:00:30.123000   \n",
            "10 0 days 00:01:32.877000        0 days 00:01:35 0 days 00:00:30.202000   \n",
            "11 0 days 00:01:32.529000 0 days 00:01:34.629000 0 days 00:00:29.973000   \n",
            "12 0 days 00:01:33.621000 0 days 00:01:34.193000 0 days 00:00:29.978000   \n",
            "13 0 days 00:01:34.735000 0 days 00:01:35.923000 0 days 00:00:30.189000   \n",
            "14 0 days 00:01:33.789000 0 days 00:01:35.028000                    NaT   \n",
            "15 0 days 00:01:34.061000 0 days 00:01:35.815000 0 days 00:00:30.032000   \n",
            "16 0 days 00:01:34.166000 0 days 00:01:36.402000 0 days 00:00:30.221000   \n",
            "17 0 days 00:01:33.958000 0 days 00:01:34.814000 0 days 00:00:29.867000   \n",
            "18 0 days 00:01:33.953000 0 days 00:01:35.053000 0 days 00:00:30.013000   \n",
            "19 0 days 00:01:34.486000 0 days 00:01:35.644000 0 days 00:00:30.525000   \n",
            "\n",
            "           Sector1TimeFP2         Sector1TimeFP1         Sector2TimeFP3  \\\n",
            "0  0 days 00:00:29.454000 0 days 00:00:30.258000 0 days 00:00:39.598000   \n",
            "1  0 days 00:00:29.376000 0 days 00:00:30.224000 0 days 00:00:39.572000   \n",
            "2  0 days 00:00:29.621000 0 days 00:00:30.206000 0 days 00:00:39.990000   \n",
            "3  0 days 00:00:30.029000 0 days 00:00:30.366000 0 days 00:00:40.083000   \n",
            "4  0 days 00:00:30.115000 0 days 00:00:30.512000 0 days 00:00:40.182000   \n",
            "5  0 days 00:00:29.662000                    NaT 0 days 00:00:40.138000   \n",
            "6  0 days 00:00:29.877000 0 days 00:00:30.167000 0 days 00:00:40.942000   \n",
            "7  0 days 00:00:29.866000 0 days 00:00:30.945000 0 days 00:00:40.369000   \n",
            "8  0 days 00:00:29.881000 0 days 00:00:30.852000 0 days 00:00:40.228000   \n",
            "9  0 days 00:00:29.967000 0 days 00:00:30.711000 0 days 00:00:40.257000   \n",
            "10 0 days 00:00:29.800000 0 days 00:00:30.297000 0 days 00:00:40.870000   \n",
            "11 0 days 00:00:29.817000 0 days 00:00:30.352000 0 days 00:00:39.869000   \n",
            "12 0 days 00:00:29.655000 0 days 00:00:30.076000 0 days 00:00:40.544000   \n",
            "13 0 days 00:00:30.128000 0 days 00:00:30.433000 0 days 00:00:40.906000   \n",
            "14 0 days 00:00:29.988000 0 days 00:00:30.231000                    NaT   \n",
            "15 0 days 00:00:30.220000 0 days 00:00:30.699000 0 days 00:00:40.468000   \n",
            "16 0 days 00:00:30.135000 0 days 00:00:30.592000 0 days 00:00:40.520000   \n",
            "17 0 days 00:00:30.088000 0 days 00:00:30.324000 0 days 00:00:40.386000   \n",
            "18 0 days 00:00:30.014000 0 days 00:00:30.140000 0 days 00:00:40.362000   \n",
            "19 0 days 00:00:30.265000 0 days 00:00:30.217000 0 days 00:00:41.300000   \n",
            "\n",
            "           Sector2TimeFP2         Sector2TimeFP1         Sector3TimeFP3  \\\n",
            "0  0 days 00:00:39.482000 0 days 00:00:40.632000 0 days 00:00:23.374000   \n",
            "1  0 days 00:00:39.507000 0 days 00:00:40.815000 0 days 00:00:23.256000   \n",
            "2  0 days 00:00:39.587000 0 days 00:00:40.722000 0 days 00:00:23.295000   \n",
            "3  0 days 00:00:39.637000 0 days 00:00:41.024000 0 days 00:00:23.134000   \n",
            "4  0 days 00:00:39.694000 0 days 00:00:40.613000 0 days 00:00:23.307000   \n",
            "5  0 days 00:00:39.965000                    NaT 0 days 00:00:23.498000   \n",
            "6  0 days 00:00:40.051000 0 days 00:00:41.130000 0 days 00:00:23.794000   \n",
            "7  0 days 00:00:39.962000 0 days 00:00:41.586000 0 days 00:00:23.300000   \n",
            "8  0 days 00:00:40.016000 0 days 00:00:41.864000 0 days 00:00:23.443000   \n",
            "9  0 days 00:00:39.687000 0 days 00:00:41.365000 0 days 00:00:23.575000   \n",
            "10 0 days 00:00:39.682000 0 days 00:00:40.826000 0 days 00:00:23.556000   \n",
            "11 0 days 00:00:39.484000 0 days 00:00:40.672000 0 days 00:00:23.093000   \n",
            "12 0 days 00:00:40.323000 0 days 00:00:40.492000 0 days 00:00:23.654000   \n",
            "13 0 days 00:00:40.667000 0 days 00:00:41.475000 0 days 00:00:23.773000   \n",
            "14 0 days 00:00:40.273000 0 days 00:00:40.952000                    NaT   \n",
            "15 0 days 00:00:40.156000 0 days 00:00:41.171000 0 days 00:00:23.471000   \n",
            "16 0 days 00:00:40.198000 0 days 00:00:41.658000 0 days 00:00:23.637000   \n",
            "17 0 days 00:00:40.251000 0 days 00:00:40.593000 0 days 00:00:23.667000   \n",
            "18 0 days 00:00:40.280000 0 days 00:00:41.057000 0 days 00:00:23.505000   \n",
            "19 0 days 00:00:40.618000 0 days 00:00:41.716000 0 days 00:00:23.842000   \n",
            "\n",
            "           Sector3TimeFP2         Sector3TimeFP1  \n",
            "0  0 days 00:00:23.087000 0 days 00:00:23.667000  \n",
            "1  0 days 00:00:23.053000 0 days 00:00:23.703000  \n",
            "2  0 days 00:00:23.312000 0 days 00:00:23.683000  \n",
            "3  0 days 00:00:23.292000 0 days 00:00:23.660000  \n",
            "4  0 days 00:00:23.335000 0 days 00:00:23.818000  \n",
            "5  0 days 00:00:23.324000                    NaT  \n",
            "6  0 days 00:00:23.432000 0 days 00:00:23.854000  \n",
            "7  0 days 00:00:23.355000 0 days 00:00:24.273000  \n",
            "8  0 days 00:00:23.188000 0 days 00:00:23.820000  \n",
            "9  0 days 00:00:23.626000 0 days 00:00:24.228000  \n",
            "10 0 days 00:00:23.395000 0 days 00:00:23.877000  \n",
            "11 0 days 00:00:23.228000 0 days 00:00:23.605000  \n",
            "12 0 days 00:00:23.643000 0 days 00:00:23.625000  \n",
            "13 0 days 00:00:23.940000 0 days 00:00:24.015000  \n",
            "14 0 days 00:00:23.528000 0 days 00:00:23.845000  \n",
            "15 0 days 00:00:23.685000 0 days 00:00:23.945000  \n",
            "16 0 days 00:00:23.833000 0 days 00:00:24.152000  \n",
            "17 0 days 00:00:23.619000 0 days 00:00:23.897000  \n",
            "18 0 days 00:00:23.659000 0 days 00:00:23.856000  \n",
            "19 0 days 00:00:23.603000 0 days 00:00:23.711000  \n"
          ]
        }
      ]
    },
    {
      "cell_type": "code",
      "source": [
        "import numpy as np\n",
        "\n",
        "results['FastTime_FP'] = results[['LapTimeFP1', 'LapTimeFP2', 'LapTimeFP3']].min(axis=1)\n",
        "print(results['FastTime_FP'])"
      ],
      "metadata": {
        "colab": {
          "base_uri": "https://localhost:8080/"
        },
        "id": "aNPd1rm1Ruvd",
        "outputId": "a1a5bffb-5345-4ce5-e4a9-50e77e346b0c"
      },
      "execution_count": 83,
      "outputs": [
        {
          "output_type": "stream",
          "name": "stdout",
          "text": [
            "0    0 days 00:01:32.023000\n",
            "1    0 days 00:01:31.936000\n",
            "2    0 days 00:01:32.520000\n",
            "3    0 days 00:01:32.791000\n",
            "4    0 days 00:01:33.121000\n",
            "5    0 days 00:01:32.951000\n",
            "6    0 days 00:01:33.360000\n",
            "7    0 days 00:01:33.183000\n",
            "8    0 days 00:01:33.085000\n",
            "9    0 days 00:01:33.280000\n",
            "10   0 days 00:01:32.877000\n",
            "11   0 days 00:01:32.529000\n",
            "12   0 days 00:01:33.621000\n",
            "13   0 days 00:01:34.735000\n",
            "14   0 days 00:01:33.789000\n",
            "15   0 days 00:01:33.971000\n",
            "16   0 days 00:01:34.166000\n",
            "17   0 days 00:01:33.920000\n",
            "18   0 days 00:01:33.880000\n",
            "19   0 days 00:01:34.486000\n",
            "Name: FastTime_FP, dtype: timedelta64[ns]\n"
          ]
        }
      ]
    },
    {
      "cell_type": "code",
      "source": [
        "results['delta_Q_FP'] = results['FastTime_FP'] - results['LapTimeQ']\n",
        "print (results['delta_Q_FP'])"
      ],
      "metadata": {
        "colab": {
          "base_uri": "https://localhost:8080/"
        },
        "id": "i9xiVO_eThVQ",
        "outputId": "2683628a-e2ba-482e-fa61-60f4a07a5b06"
      },
      "execution_count": 84,
      "outputs": [
        {
          "output_type": "stream",
          "name": "stdout",
          "text": [
            "0    0 days 00:00:01.465000\n",
            "1    0 days 00:00:01.255000\n",
            "2    0 days 00:00:01.833000\n",
            "3    0 days 00:00:01.870000\n",
            "4    0 days 00:00:01.883000\n",
            "5    0 days 00:00:01.391000\n",
            "6    0 days 00:00:01.578000\n",
            "7    0 days 00:00:01.375000\n",
            "8    0 days 00:00:01.087000\n",
            "9    0 days 00:00:01.272000\n",
            "10   0 days 00:00:00.682000\n",
            "11   0 days 00:00:00.313000\n",
            "12   0 days 00:00:01.283000\n",
            "13   0 days 00:00:02.071000\n",
            "14   0 days 00:00:01.039000\n",
            "15   0 days 00:00:01.194000\n",
            "16   0 days 00:00:01.221000\n",
            "17   0 days 00:00:00.888000\n",
            "18   0 days 00:00:00.337000\n",
            "19   0 days 00:00:00.852000\n",
            "Name: delta_Q_FP, dtype: timedelta64[ns]\n"
          ]
        }
      ]
    },
    {
      "cell_type": "code",
      "source": [
        "delta = Laps(results[['delta_Q_FP', 'Team', 'Driver']]).sort_values(by='delta_Q_FP', ascending=False).reset_index(drop=True)\n",
        "print(delta)"
      ],
      "metadata": {
        "colab": {
          "base_uri": "https://localhost:8080/"
        },
        "id": "qVFzuLQ4W5ht",
        "outputId": "0263b0e6-d0d2-455a-beb8-69bb7c90798a"
      },
      "execution_count": 97,
      "outputs": [
        {
          "output_type": "stream",
          "name": "stdout",
          "text": [
            "               delta_Q_FP             Team Driver\n",
            "0  0 days 00:00:02.071000         Williams    ALB\n",
            "1  0 days 00:00:01.883000         Mercedes    HAM\n",
            "2  0 days 00:00:01.870000  Red Bull Racing    PER\n",
            "3  0 days 00:00:01.833000          Ferrari    SAI\n",
            "4  0 days 00:00:01.578000           Alpine    OCO\n",
            "5  0 days 00:00:01.465000          Ferrari    LEC\n",
            "6  0 days 00:00:01.391000       Alfa Romeo    BOT\n",
            "7  0 days 00:00:01.375000     Haas F1 Team    MAG\n",
            "8  0 days 00:00:01.283000       AlphaTauri    GAS\n",
            "9  0 days 00:00:01.272000          McLaren    NOR\n",
            "10 0 days 00:00:01.255000  Red Bull Racing    VER\n",
            "11 0 days 00:00:01.221000          McLaren    RIC\n",
            "12 0 days 00:00:01.194000     Aston Martin    HUL\n",
            "13 0 days 00:00:01.087000     Haas F1 Team    MSC\n",
            "14 0 days 00:00:01.039000       AlphaTauri    TSU\n",
            "15 0 days 00:00:00.888000     Aston Martin    STR\n",
            "16 0 days 00:00:00.852000         Williams    LAT\n",
            "17 0 days 00:00:00.682000           Alpine    ALO\n",
            "18 0 days 00:00:00.337000       Alfa Romeo    ZHO\n",
            "19 0 days 00:00:00.313000         Mercedes    RUS\n"
          ]
        }
      ]
    },
    {
      "cell_type": "code",
      "source": [
        "import matplotlib.pyplot as plt\n",
        "\n",
        "team_colors = list()\n",
        "for index, lap in delta.iterlaps():\n",
        "    color = fastf1.plotting.team_color(lap['Team'])\n",
        "    team_colors.append(color)\n",
        "\n",
        " "
      ],
      "metadata": {
        "id": "7s-BJyiPVn4P"
      },
      "execution_count": 98,
      "outputs": []
    },
    {
      "cell_type": "code",
      "source": [
        "max_delta_time = delta['delta_Q_FP'].max()\n",
        "max_delta_time_index = delta['delta_Q_FP'].idxmax()\n",
        "driver_name = delta.loc[max_delta_time_index, 'Driver']\n",
        "\n",
        "delta_time_string = strftimedelta(max_delta_time, '%m:%s.%ms')\n",
        "\n",
        "\n"
      ],
      "metadata": {
        "id": "JlCzKK_JZ_R2"
      },
      "execution_count": 109,
      "outputs": []
    },
    {
      "cell_type": "code",
      "source": [
        "   \n",
        "fig, ax = plt.subplots()\n",
        "ax.barh(delta.index, delta['delta_Q_FP'],\n",
        "        color=team_colors, edgecolor='grey')\n",
        "ax.set_yticks(delta.index)\n",
        "ax.set_yticklabels(delta['Driver'])\n",
        "\n",
        "# show fastest at the top\n",
        "ax.invert_yaxis()\n",
        "\n",
        "# draw vertical lines behind the bars\n",
        "ax.set_axisbelow(True)\n",
        "ax.xaxis.grid(True, which='major', linestyle='--', color='black', zorder=-1000)\n",
        "\n",
        "\n",
        "plt.suptitle(f\"{session.event['EventName']} {session.event.year} Qualifying\\n\"\n",
        "             f\"Maximum gain: {delta_time_string} ({driver_name})\")\n",
        "\n",
        "plt.show()"
      ],
      "metadata": {
        "colab": {
          "base_uri": "https://localhost:8080/",
          "height": 307
        },
        "id": "Z0zLSIvLV1lC",
        "outputId": "b4d2eaf5-dc19-41b6-c91a-c731c8ad804e"
      },
      "execution_count": 110,
      "outputs": [
        {
          "output_type": "display_data",
          "data": {
            "text/plain": [
              "<Figure size 432x288 with 1 Axes>"
            ],
            "image/png": "[encoded data removed]"
          },
          "metadata": {
            "needs_background": "light"
          }
        }
      ]
    }
  ]
}